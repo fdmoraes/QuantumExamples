{
  "nbformat": 4,
  "nbformat_minor": 0,
  "metadata": {
    "colab": {
      "provenance": []
    },
    "kernelspec": {
      "name": "python3",
      "display_name": "Python 3"
    },
    "language_info": {
      "name": "python"
    }
  },
  "cells": [
    {
      "cell_type": "markdown",
      "source": [
        "#<font color='red'>**Atenção: Esse notebook foi criado no Google Colab**</font>"
      ],
      "metadata": {
        "id": "rItPgeH-lrDE"
      }
    },
    {
      "cell_type": "markdown",
      "source": [
        "# **O algoritmo RSA**\n",
        "\n",
        "O algoritmo RSA envolve quatro passos: geração de chaves, distribuição dessas chaves, cifragem e decifragem.\n",
        "\n",
        "O princípio por trás do RSA são três números inteiros positivos muito grandes, chamados de \"e\", \"d\" e \"n\". A força da sua cifragem está na dificuldade da fatoração de \"n\" para obter os números \"e\" e \"d\"\n",
        "\n",
        "# Geração das chaves\n",
        "Para gerar o par de chaves, selecione dois números primos distintos, simulares em magnitude mas pouco diferente na quantidade de dígitos para tornar a fatoração difícil.\n",
        "\n",
        "No nosso exemplo utilizaremos números pequenos para reduzir a complexidade do tutorial, uma vez que estamos interessados na lógica."
      ],
      "metadata": {
        "id": "fWQ_BnGQFf2B"
      }
    },
    {
      "cell_type": "code",
      "execution_count": null,
      "metadata": {
        "id": "lpgyzZxhFXwd"
      },
      "outputs": [],
      "source": [
        "p = 379\n",
        "q = 487"
      ]
    },
    {
      "cell_type": "markdown",
      "source": [
        "Em seguida calcule o número \"n\" que é a multiplicação dos dois números primos. O número \"n\" será utilizado como módulo para a definição das chaves públicas e privadas"
      ],
      "metadata": {
        "id": "4DWiR6aSFzKT"
      }
    },
    {
      "cell_type": "code",
      "source": [
        "n = p * q\n",
        "\n",
        "print(n)"
      ],
      "metadata": {
        "colab": {
          "base_uri": "https://localhost:8080/"
        },
        "id": "b9tMYqjsFvoh",
        "outputId": "623a4b16-f465-4d45-8610-301bb2fd6660"
      },
      "execution_count": null,
      "outputs": [
        {
          "output_type": "stream",
          "name": "stdout",
          "text": [
            "184573\n"
          ]
        }
      ]
    },
    {
      "cell_type": "markdown",
      "source": [
        "O próximo passo é calcular a função Phi. Como \"p\" e \"q\" são primos a função Phi é definida como a multiplicação de p-1 e q-1"
      ],
      "metadata": {
        "id": "y0T3Aqf2F7M3"
      }
    },
    {
      "cell_type": "code",
      "source": [
        "phi_of_n = (p - 1) * (q - 1)\n",
        "\n",
        "print(phi_of_n)"
      ],
      "metadata": {
        "colab": {
          "base_uri": "https://localhost:8080/"
        },
        "id": "dmoT0IEsF2Ls",
        "outputId": "d1f2211c-25b5-4c36-ee2c-6169c4cedf90"
      },
      "execution_count": null,
      "outputs": [
        {
          "output_type": "stream",
          "name": "stdout",
          "text": [
            "183708\n"
          ]
        }
      ]
    },
    {
      "cell_type": "markdown",
      "source": [
        "Agora vamos importar algumas funções.\n",
        "\n",
        "A primeira linha importa a função gcd que retorna o maior divisor comum entre dois números. Essa função é utilizada na geração da chave privada\n",
        "\n",
        "A função random é utilizada para gerar um número aleatório"
      ],
      "metadata": {
        "id": "fI5iXnIiF_ZL"
      }
    },
    {
      "cell_type": "code",
      "source": [
        "from math import gcd\n",
        "import random"
      ],
      "metadata": {
        "id": "cuTMTPYEF9xb"
      },
      "execution_count": null,
      "outputs": []
    },
    {
      "cell_type": "markdown",
      "source": [
        "Abaixo temos a definição da função que gera a chave de cifragem, utilizada para gerar a chave privada"
      ],
      "metadata": {
        "id": "yFOQfURbGLme"
      }
    },
    {
      "cell_type": "code",
      "source": [
        "def get_encryption_key(n, phi_of_n):\n",
        "    lst = [i for i in range(1, n+1)]\n",
        "    e_list = []\n",
        "    for i in lst:\n",
        "        if (1 < i) and (i < phi_of_n):\n",
        "            gcd_value = gcd(i, n)\n",
        "            gcd_phi = gcd(i, phi_of_n)\n",
        "            if (gcd_value == 1) and (gcd_phi == 1):\n",
        "                e_list.append(i)\n",
        "    if len(e_list) == 1:\n",
        "        return e_list[0]\n",
        "    else:\n",
        "        return e_list[random.randint(1, len(e_list)-1)] "
      ],
      "metadata": {
        "id": "eoUUxD3SGGWO"
      },
      "execution_count": null,
      "outputs": []
    },
    {
      "cell_type": "markdown",
      "source": [
        "E essa outra função gera a chave de decifragem, utilizada para gerar chave pública"
      ],
      "metadata": {
        "id": "RSIezVwoGRR9"
      }
    },
    {
      "cell_type": "code",
      "source": [
        "def get_decryption_key(e, phi_of_n):\n",
        "    d_list = []\n",
        "    for i in range(e * 25):\n",
        "        if (e * i) % phi_of_n == 1:\n",
        "            d_list.append(i)\n",
        "    return d_list[random.randint(1, len(d_list) - 1)]"
      ],
      "metadata": {
        "id": "wjbjgFqCGOm0"
      },
      "execution_count": null,
      "outputs": []
    },
    {
      "cell_type": "markdown",
      "source": [
        "O código abaixo utiliza as duas funções definidas acima para gerar as chaves privada e pública"
      ],
      "metadata": {
        "id": "RfR5M11VGaPq"
      }
    },
    {
      "cell_type": "code",
      "source": [
        "e = get_encryption_key(n, phi_of_n)\n",
        "d = get_decryption_key(e, phi_of_n)\n",
        "\n",
        "# Evitar colisão\n",
        "while d == e:\n",
        "    d = get_decryption_key(e, phi_of_n)\n",
        "\n",
        "chave_publica = [e, n]\n",
        "chave_privada = [d, n]\n",
        "\n",
        "print(chave_privada)\n",
        "print(chave_publica)"
      ],
      "metadata": {
        "colab": {
          "base_uri": "https://localhost:8080/"
        },
        "id": "QFvPGJGjGUSk",
        "outputId": "76736407-83d0-4528-96e1-83397cb39afb"
      },
      "execution_count": null,
      "outputs": [
        {
          "output_type": "stream",
          "name": "stdout",
          "text": [
            "[1095869, 184573]\n",
            "[56129, 184573]\n"
          ]
        }
      ]
    },
    {
      "cell_type": "markdown",
      "source": [
        "# **Distribuição das chaves**\n",
        "\n",
        "Idealmente a chave privada deve ser gerada no próprio dispositivo onde será utilizada, como equipamentos do tipo HSM (Hardware Security Module) que não permitam sua extração. Caso seja necessária a transmissão da chave privada, deve ser utilizado um meio seguro.\n",
        "\n",
        "Já a chave pública deve ser distribuída para que seja possível a criptografia da mensagem pela parte que envia a mensagem. Nesse tutorial não vamos precisar distribuir a chave pública pois rodaremos todo o processo nesse notebook\n",
        "\n",
        "# **Cifragem da mensagem**\n",
        "\n",
        "Primeiro vamos definir uma função que retorna os valores ASCII dos caracteres da mensagem"
      ],
      "metadata": {
        "id": "FZLR1-zaGf85"
      }
    },
    {
      "cell_type": "code",
      "source": [
        "import string\n",
        "def text_to_digits(PT):\n",
        "    pool = string.ascii_letters + string.punctuation + \" \"\n",
        "    M = []\n",
        "    for i in PT:\n",
        "        M.append(pool.index(i))\n",
        "    return M"
      ],
      "metadata": {
        "id": "l8Df9druGcTY"
      },
      "execution_count": null,
      "outputs": []
    },
    {
      "cell_type": "markdown",
      "source": [
        "E agora definimos a função que faz a cifragem da mensagem usando a chave pública"
      ],
      "metadata": {
        "id": "utTUzmQiGt_i"
      }
    },
    {
      "cell_type": "code",
      "source": [
        "def encrypt(M, chave_publica):\n",
        "    return [(i ** chave_publica[0]) % chave_publica[1] for i in M]"
      ],
      "metadata": {
        "id": "GUAGP7zGGsda"
      },
      "execution_count": null,
      "outputs": []
    },
    {
      "cell_type": "markdown",
      "source": [
        "O passo final é cifrarmos a mensagem com as funções definidas acima"
      ],
      "metadata": {
        "id": "eI4kZ9iJG1EQ"
      }
    },
    {
      "cell_type": "code",
      "source": [
        "mensagem = \"Meu teste\"\n",
        "mensagem_em_ascii = text_to_digits(mensagem)\n",
        "\n",
        "mensagem_cifrada = encrypt(mensagem_em_ascii, chave_publica)\n",
        "print(mensagem_cifrada)"
      ],
      "metadata": {
        "colab": {
          "base_uri": "https://localhost:8080/"
        },
        "id": "IahtoUBDGxzs",
        "outputId": "0b4a1a9b-8267-49ed-fbb3-362adf5851f5"
      },
      "execution_count": null,
      "outputs": [
        {
          "output_type": "stream",
          "name": "stdout",
          "text": [
            "[127198, 123289, 140933, 59084, 162653, 123289, 118952, 162653, 123289]\n"
          ]
        }
      ]
    },
    {
      "cell_type": "markdown",
      "source": [
        "## **Decifragem da mensagem**\n",
        "\n",
        "De forma semelhante a cifragem da mensagem, vamos definir uma função auxiliar que retorna os caracteres da mensagem a partir de seus valores ASCII"
      ],
      "metadata": {
        "id": "Qbak-gOjG9Py"
      }
    },
    {
      "cell_type": "code",
      "source": [
        "def digits_to_text(DT):\n",
        "    pool = string.ascii_letters + string.punctuation + \" \"\n",
        "    msg = ''\n",
        "    for i in DT:\n",
        "        msg += pool[i]\n",
        "    return msg"
      ],
      "metadata": {
        "id": "RnUn8cLcG5x2"
      },
      "execution_count": null,
      "outputs": []
    },
    {
      "cell_type": "markdown",
      "source": [
        "E agora definimos a função que faz a decifragem da mensagem"
      ],
      "metadata": {
        "id": "AHJbT4A2HJga"
      }
    },
    {
      "cell_type": "code",
      "source": [
        "def decrypt(CT, private_key):\n",
        "    return [((i ** chave_privada[0]) % chave_privada[1]) for i in CT]"
      ],
      "metadata": {
        "id": "03lYADbtHC-p"
      },
      "execution_count": null,
      "outputs": []
    },
    {
      "cell_type": "markdown",
      "source": [
        "O passo final é utilizarmos essas funções para decifrar a mensagem"
      ],
      "metadata": {
        "id": "_V8KtLFKHMsB"
      }
    },
    {
      "cell_type": "code",
      "source": [
        "mensagem_decifrage_em_ascii = decrypt(mensagem_cifrada, chave_privada) \n",
        "mensagem_aberta = original_PT = digits_to_text(mensagem_decifrage_em_ascii)\n",
        "\n",
        "print(mensagem_aberta)"
      ],
      "metadata": {
        "colab": {
          "base_uri": "https://localhost:8080/"
        },
        "id": "CkdVJDDwHLl_",
        "outputId": "3f785243-bcaa-4d4a-db6d-372c5f742789"
      },
      "execution_count": null,
      "outputs": [
        {
          "output_type": "stream",
          "name": "stdout",
          "text": [
            "Meu teste\n"
          ]
        }
      ]
    },
    {
      "cell_type": "markdown",
      "source": [
        "Dessa forma concluímos o exemplo do algoritmo RSA, definindo as chaves pública e privada, cifrando e decifrando uma mensagem com essas chaves.\n",
        "\n",
        "# **O algoritmo de Shor**\n",
        "\n",
        "O algoritmo de Shor é um algoritmo capaz fatorar um número, ou em outras palavras encontrar os dois números utilizados numa multiplicação para gerar um terceiro número.\n",
        "\n",
        "Esse é justamente o passo contrário ao RSA, que a partir de dois números primos compõem o número \"n\" que é sua base. Como vimos na sessão anterior precisamos ter acesso a esse número \"n\" tanto para cifrar como para decifrar uma mensagem. Ou seja, esse número é conhecido por todas as partes.\n",
        "\n",
        "Portanto para decifrarmos uma mensagem cifrada no RSA precisamos de acesso ao número \"n\", um computador quântico com capacidade de execução do Shor para esse número \"n\" e a mensagem cifrada.\n",
        "\n",
        "Na sessão sobre o algoritmo RSA definidos o número \"n\" da nossa cifragem. A partir dele vamos obter pelo algoritmo de Shor seus fatores, que são os números base para reconstrução das chave privada e pública.\n",
        "\n",
        "O algoritmo de Shor é explicado em diversos materiais sobre computação quântica. Na sessão referências desse notebook você entrará alguns links com a explicação.\n",
        "\n",
        "Vamos utilizar o Cirq no Google Colab para demonstrar o uso do algoritmo de Shor e obter os números \"p\" e \"q\" que definimos no início da explicação do algoritmo RSA. \n",
        "\n",
        "Não entraremos na explicação de cada função definida nesse tutorial. O leitor interessado poderá consultar toda a expliacação nos links da sessão de referências\n",
        "\n",
        "Primeiro vamos importar as funções necessárias e instalar o Cirq"
      ],
      "metadata": {
        "id": "mjp5TYSSHuDY"
      }
    },
    {
      "cell_type": "code",
      "source": [
        "import fractions\n",
        "import math\n",
        "import random\n",
        "\n",
        "import numpy as np\n",
        "import sympy\n",
        "from typing import Callable, Iterable, List, Optional, Sequence, Union\n",
        "\n",
        "try:\n",
        "    import cirq\n",
        "except ImportError:\n",
        "    print(\"installing cirq...\")\n",
        "    !pip install --quiet cirq\n",
        "    print(\"installed cirq.\")\n",
        "    import cirq"
      ],
      "metadata": {
        "colab": {
          "base_uri": "https://localhost:8080/"
        },
        "id": "HyIojsMhHsIo",
        "outputId": "09fe93e0-bb76-4bb7-87a2-75facf8e73ea"
      },
      "execution_count": null,
      "outputs": [
        {
          "output_type": "stream",
          "name": "stdout",
          "text": [
            "installing cirq...\n",
            "\u001b[K     |████████████████████████████████| 576 kB 11.5 MB/s \n",
            "\u001b[K     |████████████████████████████████| 1.8 MB 50.5 MB/s \n",
            "\u001b[K     |████████████████████████████████| 57 kB 5.5 MB/s \n",
            "\u001b[K     |████████████████████████████████| 594 kB 57.1 MB/s \n",
            "\u001b[K     |████████████████████████████████| 66 kB 5.2 MB/s \n",
            "\u001b[K     |████████████████████████████████| 47 kB 5.2 MB/s \n",
            "\u001b[K     |████████████████████████████████| 221 kB 52.6 MB/s \n",
            "\u001b[K     |████████████████████████████████| 1.0 MB 66.8 MB/s \n",
            "\u001b[K     |████████████████████████████████| 44 kB 3.0 MB/s \n",
            "\u001b[K     |████████████████████████████████| 147 kB 62.3 MB/s \n",
            "\u001b[K     |████████████████████████████████| 229 kB 65.2 MB/s \n",
            "\u001b[K     |████████████████████████████████| 49 kB 6.3 MB/s \n",
            "\u001b[K     |████████████████████████████████| 65 kB 3.5 MB/s \n",
            "\u001b[K     |████████████████████████████████| 52 kB 1.4 MB/s \n",
            "\u001b[K     |████████████████████████████████| 53 kB 2.6 MB/s \n",
            "\u001b[K     |████████████████████████████████| 243 kB 49.8 MB/s \n",
            "\u001b[K     |████████████████████████████████| 1.6 MB 41.2 MB/s \n",
            "\u001b[K     |████████████████████████████████| 109 kB 61.0 MB/s \n",
            "\u001b[K     |████████████████████████████████| 546 kB 48.5 MB/s \n",
            "\u001b[?25h  Building wheel for lark (setup.py) ... \u001b[?25l\u001b[?25hdone\n",
            "  Building wheel for retrying (setup.py) ... \u001b[?25l\u001b[?25hdone\n",
            "  Building wheel for rpcq (setup.py) ... \u001b[?25l\u001b[?25hdone\n",
            "\u001b[31mERROR: pip's dependency resolver does not currently take into account all the packages that are installed. This behaviour is the source of the following dependency conflicts.\n",
            "tensorflow 2.8.2+zzzcolab20220719082949 requires protobuf<3.20,>=3.9.2, but you have protobuf 3.20.1 which is incompatible.\u001b[0m\n",
            "installed cirq.\n"
          ]
        }
      ]
    },
    {
      "cell_type": "markdown",
      "source": [
        "Ao contrário do IBM Qiskit o Cirq ainda não possuí uma função que gera o circuito pronto para nós (ou pelo menos não localizei até agora). Portanto vamos implementar todos os passos.\n",
        "\n",
        "A fatoração de um número inteiro pode ser obtida através da procura do período do resto da divisão de uma função exponencial pelo número que queremos fatorar.\n",
        "Ao obter o período dessa função podemos calcular com alta probabilidade os fatores do número resultante da multiplicação. \n",
        "\n",
        "Primeiro vamos definir uma função que calcula de forma clássica o menor expoente que podemos elevar um número qualquer, desde que o resto da divisão pelo número que queremos fatorar seja 1"
      ],
      "metadata": {
        "id": "WicE-dxKJs6o"
      }
    },
    {
      "cell_type": "code",
      "source": [
        "\"\"\"Function for classically computing the order of an element of Z_n.\"\"\"\n",
        "def classical_order_finder(x: int, n: int) -> Optional[int]:\n",
        "    \"\"\"Computes smallest positive r such that x**r mod n == 1.\n",
        "\n",
        "    Args:\n",
        "        x: Integer whose order is to be computed, must be greater than one\n",
        "           and belong to the multiplicative group of integers modulo n (which\n",
        "           consists of positive integers relatively prime to n),\n",
        "        n: Modulus of the multiplicative group.\n",
        "\n",
        "    Returns:\n",
        "        Smallest positive integer r such that x**r == 1 mod n.\n",
        "        Always succeeds (and hence never returns None).\n",
        "\n",
        "    Raises:\n",
        "        ValueError when x is 1 or not an element of the multiplicative\n",
        "        group of integers modulo n.\n",
        "    \"\"\"\n",
        "    # Make sure x is both valid and in Z_n.\n",
        "    if x < 2 or x >= n or math.gcd(x, n) > 1:\n",
        "        raise ValueError(f\"Invalid x={x} for modulus n={n}.\")\n",
        "\n",
        "    # Determine the order.\n",
        "    r, y = 1, x\n",
        "    while y != 1:\n",
        "        y = (x * y) % n\n",
        "        r += 1\n",
        "    return r"
      ],
      "metadata": {
        "id": "TnZNzIzAnAjq"
      },
      "execution_count": null,
      "outputs": []
    },
    {
      "cell_type": "markdown",
      "source": [
        "Antes definir um circuito quântico que faça o mesmo cálculo, vamos definir uma função que receberá o resultado desse circuito e o interpretará através de alguns cálculos.\n",
        "\n",
        "Esses cálculos são descritos no tutorial do algoritmo de Shor do Google Cirq apresentado na sessão de referências no final desse texto."
      ],
      "metadata": {
        "id": "6XbO8O4-qKum"
      }
    },
    {
      "cell_type": "code",
      "source": [
        "def process_measurement(result: cirq.Result, x: int, n: int) -> Optional[int]:\n",
        "    \"\"\"Interprets the output of the order finding circuit.\n",
        "\n",
        "    Specifically, it determines s/r such that exp(2πis/r) is an eigenvalue\n",
        "    of the unitary\n",
        "\n",
        "        U|y⟩ = |xy mod n⟩  0 <= y < n\n",
        "        U|y⟩ = |y⟩         n <= y\n",
        "\n",
        "    then computes r (by continued fractions) if possible, and returns it.\n",
        "\n",
        "    Args:\n",
        "        result: result obtained by sampling the output of the\n",
        "            circuit built by make_order_finding_circuit\n",
        "\n",
        "    Returns:\n",
        "        r, the order of x modulo n or None.\n",
        "    \"\"\"\n",
        "    # Read the output integer of the exponent register.\n",
        "    exponent_as_integer = result.data[\"exponent\"][0]\n",
        "    exponent_num_bits = result.measurements[\"exponent\"].shape[1]\n",
        "    eigenphase = float(exponent_as_integer / 2**exponent_num_bits)\n",
        "\n",
        "    # Run the continued fractions algorithm to determine f = s / r.\n",
        "    f = fractions.Fraction.from_float(eigenphase).limit_denominator(n)\n",
        "\n",
        "    # If the numerator is zero, the order finder failed.\n",
        "    if f.numerator == 0:\n",
        "        return None\n",
        "\n",
        "    # Else, return the denominator if it is valid.\n",
        "    r = f.denominator\n",
        "    if x**r % n != 1:\n",
        "        return None\n",
        "    return r\n",
        "\n"
      ],
      "metadata": {
        "id": "vtPkpCnAJ8P0"
      },
      "execution_count": null,
      "outputs": []
    },
    {
      "cell_type": "markdown",
      "source": [
        "Agora vamos definir mais duas funções.\n",
        "\n",
        "A primeira cria o circuito quântico para fazer o cálculo do valor de um número elevado ao outro, que é a função exponencial\n",
        "\n",
        "Já a segunda função utiliza o cálculo da primeira função e das criadas anteriormente para cálculo o resto da divisão da função exponencial pelo número que desejamos fatorar"
      ],
      "metadata": {
        "id": "nfx_MPVOpjD4"
      }
    },
    {
      "cell_type": "code",
      "source": [
        "\"\"\"Function to make the quantum circuit for order finding.\"\"\"\n",
        "def make_order_finding_circuit(x: int, n: int) -> cirq.Circuit:\n",
        "    \"\"\"Returns quantum circuit which computes the order of x modulo n.\n",
        "\n",
        "    The circuit uses Quantum Phase Estimation to compute an eigenvalue of\n",
        "    the following unitary:\n",
        "\n",
        "        U|y⟩ = |y * x mod n⟩      0 <= y < n\n",
        "        U|y⟩ = |y⟩                n <= y\n",
        "\n",
        "    Args:\n",
        "        x: positive integer whose order modulo n is to be found\n",
        "        n: modulus relative to which the order of x is to be found\n",
        "\n",
        "    Returns:\n",
        "        Quantum circuit for finding the order of x modulo n\n",
        "    \"\"\"\n",
        "    L = n.bit_length()\n",
        "    target = cirq.LineQubit.range(L)\n",
        "    exponent = cirq.LineQubit.range(L, 3 * L + 3)\n",
        "\n",
        "    # Create a ModularExp gate sized for these registers.\n",
        "    mod_exp = ModularExp([2] * L, [2] * (2 * L + 3), x, n)\n",
        "\n",
        "    return cirq.Circuit(\n",
        "        cirq.X(target[L - 1]),\n",
        "        cirq.H.on_each(*exponent),\n",
        "        mod_exp.on(*target, *exponent),\n",
        "        cirq.qft(*exponent, inverse=True),\n",
        "        cirq.measure(*exponent, key='exponent'),\n",
        "    )\n",
        "\n",
        "def quantum_order_finder(x: int, n: int) -> Optional[int]:\n",
        "    \"\"\"Computes smallest positive r such that x**r mod n == 1.\n",
        "\n",
        "    Args:\n",
        "        x: integer whose order is to be computed, must be greater than one\n",
        "           and belong to the multiplicative group of integers modulo n (which\n",
        "           consists of positive integers relatively prime to n),\n",
        "        n: modulus of the multiplicative group.\n",
        "    \"\"\"\n",
        "    # Check that the integer x is a valid element of the multiplicative group\n",
        "    # modulo n.\n",
        "    if x < 2 or n <= x or math.gcd(x, n) > 1:\n",
        "        raise ValueError(f'Invalid x={x} for modulus n={n}.')\n",
        "\n",
        "    # Create the order finding circuit.\n",
        "    circuit = make_order_finding_circuit(x, n)\n",
        "\n",
        "    # Sample from the order finding circuit.\n",
        "    measurement = cirq.sample(circuit)\n",
        "\n",
        "    # Return the processed measurement result.\n",
        "    return process_measurement(measurement, x, n)"
      ],
      "metadata": {
        "id": "5bVWwn6-J0Ns"
      },
      "execution_count": null,
      "outputs": []
    },
    {
      "cell_type": "markdown",
      "source": [
        "O próximo passo é definimos a última função que fará uso da nossa função de fatoração quântica, adicionando algumas verificações iniciais dos parâmetros e também do resultado"
      ],
      "metadata": {
        "id": "lZc_Hr0YPbiV"
      }
    },
    {
      "cell_type": "code",
      "source": [
        "\"\"\"Functions for factoring from start to finish.\"\"\"\n",
        "def find_factor_of_prime_power(n: int) -> Optional[int]:\n",
        "    \"\"\"Returns non-trivial factor of n if n is a prime power, else None.\"\"\"\n",
        "    for k in range(2, math.floor(math.log2(n)) + 1):\n",
        "        c = math.pow(n, 1 / k)\n",
        "        c1 = math.floor(c)\n",
        "        if c1**k == n:\n",
        "            return c1\n",
        "        c2 = math.ceil(c)\n",
        "        if c2**k == n:\n",
        "            return c2\n",
        "    return None\n",
        "\n",
        "\n",
        "def find_factor(\n",
        "    n: int,\n",
        "    order_finder: Callable[[int, int], Optional[int]] = quantum_order_finder,\n",
        "    max_attempts: int = 30\n",
        ") -> Optional[int]:\n",
        "    \"\"\"Returns a non-trivial factor of composite integer n.\n",
        "\n",
        "    Args:\n",
        "        n: Integer to factor.\n",
        "        order_finder: Function for finding the order of elements of the\n",
        "            multiplicative group of integers modulo n.\n",
        "        max_attempts: number of random x's to try, also an upper limit\n",
        "            on the number of order_finder invocations.\n",
        "\n",
        "    Returns:\n",
        "        Non-trivial factor of n or None if no such factor was found.\n",
        "        Factor k of n is trivial if it is 1 or n.\n",
        "    \"\"\"\n",
        "    # If the number is prime, there are no non-trivial factors.\n",
        "    if sympy.isprime(n):\n",
        "        print(\"n is prime!\")\n",
        "        return None\n",
        "\n",
        "    # If the number is even, two is a non-trivial factor.\n",
        "    if n % 2 == 0:\n",
        "        return 2\n",
        "\n",
        "    # If n is a prime power, we can find a non-trivial factor efficiently.\n",
        "    c = find_factor_of_prime_power(n)\n",
        "    if c is not None:\n",
        "        return c\n",
        "\n",
        "    for _ in range(max_attempts):\n",
        "        # Choose a random number between 2 and n - 1.\n",
        "        x = random.randint(2, n - 1)\n",
        "\n",
        "        # Most likely x and n will be relatively prime.\n",
        "        c = math.gcd(x, n)\n",
        "\n",
        "        # If x and n are not relatively prime, we got lucky and found\n",
        "        # a non-trivial factor.\n",
        "        if 1 < c < n:\n",
        "            return c\n",
        "\n",
        "        # Compute the order r of x modulo n using the order finder.\n",
        "        r = order_finder(x, n)\n",
        "\n",
        "        # If the order finder failed, try again.\n",
        "        if r is None:\n",
        "            continue\n",
        "\n",
        "        # If the order r is even, try again.\n",
        "        if r % 2 != 0:\n",
        "            continue\n",
        "\n",
        "        # Compute the non-trivial factor.\n",
        "        y = x**(r // 2) % n\n",
        "        assert 1 < y < n\n",
        "        c = math.gcd(y - 1, n)\n",
        "        if 1 < c < n:\n",
        "            return c\n",
        "\n",
        "    print(f\"Failed to find a non-trivial factor in {max_attempts} attempts.\")\n",
        "    return None"
      ],
      "metadata": {
        "id": "NZt9ZwQXJjev"
      },
      "execution_count": null,
      "outputs": []
    },
    {
      "cell_type": "markdown",
      "source": [
        "Por fim vamos fazer o uso das funções que definimos para obter um dos fatores do número utilizado e com isso calcular o segundo fator:"
      ],
      "metadata": {
        "id": "IS4ilt22qqcZ"
      }
    },
    {
      "cell_type": "code",
      "source": [
        "# Attempt to find a factor\n",
        "p = find_factor(n, order_finder=classical_order_finder)\n",
        "q = n // p\n",
        "\n",
        "\n",
        "print(\"Factoring n = pq =\", n)\n",
        "print(\"p =\", p)\n",
        "print(\"q =\", q)"
      ],
      "metadata": {
        "colab": {
          "base_uri": "https://localhost:8080/"
        },
        "id": "W7mdO9tIII_F",
        "outputId": "d0f1d107-e583-40d7-ee55-5cfd93538f09"
      },
      "execution_count": null,
      "outputs": [
        {
          "output_type": "stream",
          "name": "stdout",
          "text": [
            "Factoring n = pq = 184573\n",
            "p = 379\n",
            "q = 487\n"
          ]
        }
      ]
    },
    {
      "cell_type": "markdown",
      "source": [
        "Concluímos essa sessão com um exemplo prático da capacidade do algoritmo de Shor fatorar o número \"n\" do algoritmo RSA.\n",
        "\n",
        "A partir desses fatores podemos recriar as chaves privada e pública e decifrar qualquer mensagem cifrada com a chave privada.\n",
        "\n",
        "Porém no momento não temos um computador quântico com capacidade suficiente para fatorar o número \"n\" que é utilizado para proteger nossas comunicações e muitos de nossos dados em repouso.\n",
        "\n",
        "#Criptografia pós-quântica\n",
        "Porém o que ocorrerá quando tivermos um computador quântico poderoso o suficiente para quebrar o RSA e outros algoritmos de criptografia utilizados atualmente?\n",
        "\n",
        "Para evitar esse problema estão em desenvolvimento os algoritmos de criptografia pós-quânticos. Recentemente o NIST publicou a lista dos primeiros algoritmos projetados para resistir aos computadores quânticos. Listamos alguns links sobre o assunto na sessão de referências.\n",
        "\n",
        "Mas esse é um assunto para outro notebook.\n",
        "\n",
        "#Referências\n",
        "Algoritmo RSA: https://en.wikipedia.org/wiki/RSA_(cryptosystem)\n",
        "\n",
        "Implementação do algoritmo RSA: https://www.codespeedy.com/rsa-algorithm-an-asymmetric-key-encryption-in-python/#:~:text=RSA%20Algorithm%20working%20example&text=Compute%20totient%20%3D%20\n",
        "\n",
        "Algoritmo de Shor: https://en.wikipedia.org/wiki/Shor%27s_algorithm\n",
        "\n",
        "Explicação do algoritmo de Shor: https://quantumai.google/cirq/experiments/shor\n",
        "\n",
        "Documentação do Google Cirq: https://quantumai.google/cirq\n",
        "\n",
        "Página inicial do Google Colab: https://colab.research.google.com/?utm_source=scs-index\n",
        "\n",
        "Links sobre criptografia pós-quântica:\n",
        "\n",
        "https://www.nist.gov/news-events/news/2022/07/nist-announces-first-four-quantum-resistant-cryptographic-algorithms\n",
        "\n",
        "https://www.inovacaotecnologica.com.br/noticias/noticia.php?artigo=selecionados-algoritmos-criptografia-resistentes-computadores-quanticos&id=010150220708#.YtYdgKTQ9zB\n",
        "\n",
        "https://thequantuminsider.com/2022/07/11/crypto-quantique-announces-first-post-quantum-computing-iot-security-platform-compliant-with-new-nist-standards/"
      ],
      "metadata": {
        "id": "rlFU6ul4KLNs"
      }
    }
  ]
}