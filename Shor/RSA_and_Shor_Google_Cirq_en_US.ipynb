{
  "nbformat": 4,
  "nbformat_minor": 0,
  "metadata": {
    "colab": {
      "name": "RSA and Shor - Google Cirq en-US.ipynb",
      "provenance": [],
      "collapsed_sections": []
    },
    "kernelspec": {
      "name": "python3",
      "display_name": "Python 3"
    },
    "language_info": {
      "name": "python"
    }
  },
  "cells": [
    {
      "cell_type": "markdown",
      "source": [
        "# **RSA Algorithm**\n",
        "\n",
        "There are four steps when using RSA algorithm: keys generation, public key distribution, ciphering and deciphering.\n",
        "\n",
        "The fundamental of RSA are three big positive an integer numbers, usually called \"e\", \"d\" and \"n\". The strength of RSA algorithm is the difficulty  of factoring the number \"n\" to obtain \"e\" and \"d\". \n",
        "\n",
        "## **Keys generation**\n",
        "\n",
        "To create the key pair, choose two prime numbers similars in magnitude but with little difference in quantity of digits to make factoring a hard task.\n",
        "\n",
        "In example bellow we are using small numbers to reduce tutorial complexity, because we are interested in understanding the logic."
      ],
      "metadata": {
        "id": "JTBuGCjNtme4"
      }
    },
    {
      "cell_type": "code",
      "execution_count": 2,
      "metadata": {
        "id": "3cHBvJX2tQ_z"
      },
      "outputs": [],
      "source": [
        "p = 379\n",
        "q = 487"
      ]
    },
    {
      "cell_type": "markdown",
      "source": [
        "Next multiply these numbers to calculate \"n\". This number will be used as modulo to define the public and private keys."
      ],
      "metadata": {
        "id": "OAo000Q0t9tI"
      }
    },
    {
      "cell_type": "code",
      "source": [
        "n = p * q\n",
        "\n",
        "print(n)"
      ],
      "metadata": {
        "colab": {
          "base_uri": "https://localhost:8080/"
        },
        "id": "Y2pVaprxuAUx",
        "outputId": "9c744afd-d5c9-4e38-e9a3-1e238d7a9fdb"
      },
      "execution_count": 3,
      "outputs": [
        {
          "output_type": "stream",
          "name": "stdout",
          "text": [
            "184573\n"
          ]
        }
      ]
    },
    {
      "cell_type": "markdown",
      "source": [
        "Now we need to calculte Phi. As \"p\" and \"q\" are prime numbers the Phi is defined as multiplication of p-1 and q-1"
      ],
      "metadata": {
        "id": "vI3JeswEuEqs"
      }
    },
    {
      "cell_type": "code",
      "source": [
        "phi_of_n = (p - 1) * (q - 1)\n",
        "\n",
        "print(phi_of_n)"
      ],
      "metadata": {
        "colab": {
          "base_uri": "https://localhost:8080/"
        },
        "id": "bwh_GvAUuDnA",
        "outputId": "5675aebd-9d6d-4308-833d-75e881ab7142"
      },
      "execution_count": 4,
      "outputs": [
        {
          "output_type": "stream",
          "name": "stdout",
          "text": [
            "183708\n"
          ]
        }
      ]
    },
    {
      "cell_type": "markdown",
      "source": [
        "Now let´s import some python functions...\n",
        "\n",
        "First line imports the gcd function, which returns the greatest common divisor of two numbers. This function will be used to generate the private key.\n",
        "\n",
        "The random function is used to generate a random number"
      ],
      "metadata": {
        "id": "2FwY3IvXuVcT"
      }
    },
    {
      "cell_type": "code",
      "source": [
        "from math import gcd\n",
        "import random"
      ],
      "metadata": {
        "id": "uI9Jhd4RuJVj"
      },
      "execution_count": 5,
      "outputs": []
    },
    {
      "cell_type": "markdown",
      "source": [
        "Bellow we define the function to create the encrypton key. This key will be used to generate the private key"
      ],
      "metadata": {
        "id": "pnmKVmieud3s"
      }
    },
    {
      "cell_type": "code",
      "source": [
        "def get_encryption_key(n, phi_of_n):\n",
        "    lst = [i for i in range(1, n+1)]\n",
        "    e_list = []\n",
        "    for i in lst:\n",
        "        if (1 < i) and (i < phi_of_n):\n",
        "            gcd_value = gcd(i, n)\n",
        "            gcd_phi = gcd(i, phi_of_n)\n",
        "            if (gcd_value == 1) and (gcd_phi == 1):\n",
        "                e_list.append(i)\n",
        "    if len(e_list) == 1:\n",
        "        return e_list[0]\n",
        "    else:\n",
        "        return e_list[random.randint(1, len(e_list)-1)] "
      ],
      "metadata": {
        "id": "T1_BGAnCuZoI"
      },
      "execution_count": 6,
      "outputs": []
    },
    {
      "cell_type": "markdown",
      "source": [
        "This other function creates the decryption key, used to derive the public key"
      ],
      "metadata": {
        "id": "d-aOZwtDuokg"
      }
    },
    {
      "cell_type": "code",
      "source": [
        "def get_decryption_key(e, phi_of_n):\n",
        "    d_list = []\n",
        "    for i in range(e * 25):\n",
        "        if (e * i) % phi_of_n == 1:\n",
        "            d_list.append(i)\n",
        "    return d_list[random.randint(1, len(d_list) - 1)]"
      ],
      "metadata": {
        "id": "F-8vASStujo7"
      },
      "execution_count": 7,
      "outputs": []
    },
    {
      "cell_type": "markdown",
      "source": [
        "The code bellow uses these function to create the private and the public keys:"
      ],
      "metadata": {
        "id": "FX48bxLnvBql"
      }
    },
    {
      "cell_type": "code",
      "source": [
        "e = get_encryption_key(n, phi_of_n)\n",
        "d = get_decryption_key(e, phi_of_n)\n",
        "\n",
        "# avoid colision\n",
        "while d == e:\n",
        "    d = get_decryption_key(e, phi_of_n)\n",
        "\n",
        "public_key = [e, n]\n",
        "private_key = [d, n]\n",
        "\n",
        "print(public_key)\n",
        "print(private_key)"
      ],
      "metadata": {
        "colab": {
          "base_uri": "https://localhost:8080/"
        },
        "id": "QaBmIGD_vEIG",
        "outputId": "6103cdad-2453-405f-9a33-1da3c324aaa5"
      },
      "execution_count": 8,
      "outputs": [
        {
          "output_type": "stream",
          "name": "stdout",
          "text": [
            "[25721, 184573]\n",
            "[404549, 184573]\n"
          ]
        }
      ]
    },
    {
      "cell_type": "markdown",
      "source": [
        "## **Public key distribution**\n",
        "\n",
        "Ideally the private key is created using HSM (Hardware Security Module) devices that don´t allow key extractionis and this key is never transmitted. When is necessary to transmit the private key, we need to use a security channel\n",
        "\n",
        "## **Message ciphering**\n",
        "\n",
        "First let´s define a function to return ASCII values from message characters:\n"
      ],
      "metadata": {
        "id": "TZKk-27IvNDz"
      }
    },
    {
      "cell_type": "code",
      "source": [
        "import string\n",
        "def text_to_digits(PT):\n",
        "    pool = string.ascii_letters + string.punctuation + \" \"\n",
        "    M = []\n",
        "    for i in PT:\n",
        "        M.append(pool.index(i))\n",
        "    return M"
      ],
      "metadata": {
        "id": "IvXNB1VQvGPl"
      },
      "execution_count": 11,
      "outputs": []
    },
    {
      "cell_type": "markdown",
      "source": [
        "And define a function to cipher the message using our public key:"
      ],
      "metadata": {
        "id": "LDXeLQmPvvf4"
      }
    },
    {
      "cell_type": "code",
      "source": [
        "def encrypt(M, chave_publica):\n",
        "    return [(i ** public_key[0]) % public_key[1] for i in M]"
      ],
      "metadata": {
        "id": "ozTayEqNvqRC"
      },
      "execution_count": 9,
      "outputs": []
    },
    {
      "cell_type": "markdown",
      "source": [
        "Final step is to cipher the message using these functions"
      ],
      "metadata": {
        "id": "_TF4h8ZQv5eI"
      }
    },
    {
      "cell_type": "code",
      "source": [
        "message = \"My test\"\n",
        "ascii_message = text_to_digits(message)\n",
        "\n",
        "cipher_message = encrypt(ascii_message, public_key)\n",
        "print(cipher_message)"
      ],
      "metadata": {
        "colab": {
          "base_uri": "https://localhost:8080/"
        },
        "id": "yU0bvh5hv7zE",
        "outputId": "c1b0b156-efc1-48fd-ce70-9c251917f3a8"
      },
      "execution_count": 12,
      "outputs": [
        {
          "output_type": "stream",
          "name": "stdout",
          "text": [
            "[7087, 63911, 146858, 80521, 166056, 29574, 80521]\n"
          ]
        }
      ]
    },
    {
      "cell_type": "markdown",
      "source": [
        "## **Message deciphering**\n",
        "\n",
        "Similar to message ciphering, let´s define a function to return character from an ASCII value"
      ],
      "metadata": {
        "id": "4ufqHARwwJ4I"
      }
    },
    {
      "cell_type": "code",
      "source": [
        "def digits_to_text(DT):\n",
        "    pool = string.ascii_letters + string.punctuation + \" \"\n",
        "    msg = ''\n",
        "    for i in DT:\n",
        "        msg += pool[i]\n",
        "    return msg"
      ],
      "metadata": {
        "id": "r2ipQ0l2wHIB"
      },
      "execution_count": 13,
      "outputs": []
    },
    {
      "cell_type": "markdown",
      "source": [
        "Now we define a function to decipher the message using private key:"
      ],
      "metadata": {
        "id": "9x9GzPlQwuF8"
      }
    },
    {
      "cell_type": "code",
      "source": [
        "def decrypt(CT, private_key):\n",
        "    return [((i ** private_key[0]) % private_key[1]) for i in CT]"
      ],
      "metadata": {
        "id": "jLwSkZXewqYt"
      },
      "execution_count": 14,
      "outputs": []
    },
    {
      "cell_type": "markdown",
      "source": [
        "Final step is to use these functions to decipher the message:"
      ],
      "metadata": {
        "id": "GVGbR7a7w1ej"
      }
    },
    {
      "cell_type": "code",
      "source": [
        "ascii_decipher_message = decrypt(cipher_message, private_key) \n",
        "original_message = original_PT = digits_to_text(ascii_decipher_message)\n",
        "\n",
        "print(original_message)"
      ],
      "metadata": {
        "colab": {
          "base_uri": "https://localhost:8080/"
        },
        "id": "N8-otPP4w1zF",
        "outputId": "3bff5fff-0506-49e8-a6d8-fe4b7c890902"
      },
      "execution_count": 15,
      "outputs": [
        {
          "output_type": "stream",
          "name": "stdout",
          "text": [
            "My test\n"
          ]
        }
      ]
    },
    {
      "cell_type": "markdown",
      "source": [
        "We finished our example of RSA algorithm, generating key pair, ciphering and deciphering one message using these keys.\n",
        "\n",
        "# **Shor´s algorithm**\n",
        "\n",
        "Shor´s algorithm is a quantum computing algorithm capable of factoring an integer number, which is finding two numbers used in a multiplication to generate a third one.\n",
        "\n",
        "This is the reverse path of RSA algorithm, which uses two prime numbers to generate the number \"n\". This number \"n\" is the base of this algorithm.\n",
        "\n",
        "In the previous section we could understand that we need this number \"n\" to cipher and decipher messages. In other words, this number is known by all parts involved in message transmission.\n",
        "\n",
        "In theory, to break the RSA encryption we need the number \"n\", a quantum computer with enough capacity to execute Shor´s algorithm  and the ciphered message.\n",
        "\n",
        "In the beginning  of RSA section we defined the number \"n\". We will use Shor´s algorithm to calculate the factos of this number, which are the numbers needed to generate the public and private keys.\n",
        "\n",
        "Shor´s algorithm is explained in diverse materials about quantum computing. In references section of this notebook you can find links explaning this algorithm.\n",
        "\n",
        "Let´s use Cirq on Google Colab to show how to use Shor´s algorithm to obtain  numbers \"p\" and \"q\" that we defined in the beginning of RSA section to create the key pair.\n",
        "\n",
        "Functions used on this tutorial are provided in Cirq documentation about Shor´s algorithm. We provide the link with detailed explanation in references sections.\n",
        "\n",
        "First let´s import necessary functions and install Cirq on Google Colab:"
      ],
      "metadata": {
        "id": "QIlOp50nxG4A"
      }
    },
    {
      "cell_type": "code",
      "source": [
        "import fractions\n",
        "import math\n",
        "import random\n",
        "\n",
        "import numpy as np\n",
        "import sympy\n",
        "from typing import Callable, Iterable, List, Optional, Sequence, Union\n",
        "\n",
        "try:\n",
        "    import cirq\n",
        "except ImportError:\n",
        "    print(\"installing cirq...\")\n",
        "    !pip install --quiet cirq\n",
        "    print(\"installed cirq.\")\n",
        "    import cirq"
      ],
      "metadata": {
        "colab": {
          "base_uri": "https://localhost:8080/"
        },
        "id": "KqIkQDpUw4ga",
        "outputId": "1a7beb61-5744-439c-a5a1-a34661eb534b"
      },
      "execution_count": 16,
      "outputs": [
        {
          "output_type": "stream",
          "name": "stdout",
          "text": [
            "installing cirq...\n",
            "\u001b[K     |████████████████████████████████| 66 kB 2.6 MB/s \n",
            "\u001b[K     |████████████████████████████████| 594 kB 36.3 MB/s \n",
            "\u001b[K     |████████████████████████████████| 576 kB 37.4 MB/s \n",
            "\u001b[K     |████████████████████████████████| 1.8 MB 34.0 MB/s \n",
            "\u001b[K     |████████████████████████████████| 57 kB 4.4 MB/s \n",
            "\u001b[K     |████████████████████████████████| 47 kB 3.7 MB/s \n",
            "\u001b[K     |████████████████████████████████| 221 kB 52.0 MB/s \n",
            "\u001b[K     |████████████████████████████████| 1.0 MB 34.1 MB/s \n",
            "\u001b[K     |████████████████████████████████| 147 kB 52.5 MB/s \n",
            "\u001b[K     |████████████████████████████████| 229 kB 49.8 MB/s \n",
            "\u001b[K     |████████████████████████████████| 44 kB 2.2 MB/s \n",
            "\u001b[K     |████████████████████████████████| 65 kB 3.1 MB/s \n",
            "\u001b[K     |████████████████████████████████| 49 kB 5.3 MB/s \n",
            "\u001b[K     |████████████████████████████████| 52 kB 1.3 MB/s \n",
            "\u001b[K     |████████████████████████████████| 53 kB 1.9 MB/s \n",
            "\u001b[K     |████████████████████████████████| 243 kB 41.3 MB/s \n",
            "\u001b[K     |████████████████████████████████| 1.6 MB 42.7 MB/s \n",
            "\u001b[K     |████████████████████████████████| 109 kB 50.1 MB/s \n",
            "\u001b[K     |████████████████████████████████| 546 kB 56.3 MB/s \n",
            "\u001b[?25h  Building wheel for lark (setup.py) ... \u001b[?25l\u001b[?25hdone\n",
            "  Building wheel for retrying (setup.py) ... \u001b[?25l\u001b[?25hdone\n",
            "  Building wheel for rpcq (setup.py) ... \u001b[?25l\u001b[?25hdone\n",
            "\u001b[31mERROR: pip's dependency resolver does not currently take into account all the packages that are installed. This behaviour is the source of the following dependency conflicts.\n",
            "tensorflow 2.8.2+zzzcolab20220719082949 requires protobuf<3.20,>=3.9.2, but you have protobuf 3.20.1 which is incompatible.\u001b[0m\n",
            "installed cirq.\n"
          ]
        }
      ]
    },
    {
      "cell_type": "markdown",
      "source": [
        "Cirq doesn´t have yeat a function that implements Shor´s algorithm (or I unnable to find it). We will implement all necessary steps.\n",
        "\n",
        "Factoring a integer number can be seen as finding the period of modulo from a division of an exponential function by the number we want to factor. Obtaining this modulo we can calculate factors of \"n\" with high probability.\n",
        "\n",
        "First, let´s define a function using traditional computing to calculate the smallest positive exponent of a function which division by the number we want to factor is 1."
      ],
      "metadata": {
        "id": "DG_bBePwy2Zi"
      }
    },
    {
      "cell_type": "code",
      "source": [
        "\"\"\"Function for classically computing the order of an element of Z_n.\"\"\"\n",
        "def classical_order_finder(x: int, n: int) -> Optional[int]:\n",
        "    \"\"\"Computes smallest positive r such that x**r mod n == 1.\n",
        "\n",
        "    Args:\n",
        "        x: Integer whose order is to be computed, must be greater than one\n",
        "           and belong to the multiplicative group of integers modulo n (which\n",
        "           consists of positive integers relatively prime to n),\n",
        "        n: Modulus of the multiplicative group.\n",
        "\n",
        "    Returns:\n",
        "        Smallest positive integer r such that x**r == 1 mod n.\n",
        "        Always succeeds (and hence never returns None).\n",
        "\n",
        "    Raises:\n",
        "        ValueError when x is 1 or not an element of the multiplicative\n",
        "        group of integers modulo n.\n",
        "    \"\"\"\n",
        "    # Make sure x is both valid and in Z_n.\n",
        "    if x < 2 or x >= n or math.gcd(x, n) > 1:\n",
        "        raise ValueError(f\"Invalid x={x} for modulus n={n}.\")\n",
        "\n",
        "    # Determine the order.\n",
        "    r, y = 1, x\n",
        "    while y != 1:\n",
        "        y = (x * y) % n\n",
        "        r += 1\n",
        "    return r"
      ],
      "metadata": {
        "id": "iTPqMmchyucK"
      },
      "execution_count": 17,
      "outputs": []
    },
    {
      "cell_type": "markdown",
      "source": [
        "Before defining the quantum circuit, we will define a function to receive the result and interpret it"
      ],
      "metadata": {
        "id": "SFSNb7_n1irE"
      }
    },
    {
      "cell_type": "code",
      "source": [
        "def process_measurement(result: cirq.Result, x: int, n: int) -> Optional[int]:\n",
        "    \"\"\"Interprets the output of the order finding circuit.\n",
        "\n",
        "    Specifically, it determines s/r such that exp(2πis/r) is an eigenvalue\n",
        "    of the unitary\n",
        "\n",
        "        U|y⟩ = |xy mod n⟩  0 <= y < n\n",
        "        U|y⟩ = |y⟩         n <= y\n",
        "\n",
        "    then computes r (by continued fractions) if possible, and returns it.\n",
        "\n",
        "    Args:\n",
        "        result: result obtained by sampling the output of the\n",
        "            circuit built by make_order_finding_circuit\n",
        "\n",
        "    Returns:\n",
        "        r, the order of x modulo n or None.\n",
        "    \"\"\"\n",
        "    # Read the output integer of the exponent register.\n",
        "    exponent_as_integer = result.data[\"exponent\"][0]\n",
        "    exponent_num_bits = result.measurements[\"exponent\"].shape[1]\n",
        "    eigenphase = float(exponent_as_integer / 2**exponent_num_bits)\n",
        "\n",
        "    # Run the continued fractions algorithm to determine f = s / r.\n",
        "    f = fractions.Fraction.from_float(eigenphase).limit_denominator(n)\n",
        "\n",
        "    # If the numerator is zero, the order finder failed.\n",
        "    if f.numerator == 0:\n",
        "        return None\n",
        "\n",
        "    # Else, return the denominator if it is valid.\n",
        "    r = f.denominator\n",
        "    if x**r % n != 1:\n",
        "        return None\n",
        "    return r\n"
      ],
      "metadata": {
        "id": "QB_FEi561hUw"
      },
      "execution_count": 18,
      "outputs": []
    },
    {
      "cell_type": "markdown",
      "source": [
        "We have to define two more functions.\n",
        "\n",
        "First one creates the quantum circuit to calculate the exponential function.\n",
        "\n",
        "Second function uses the result of this exponential function and functions defined previously to calculate the mod of the exponential function by the number \"n\""
      ],
      "metadata": {
        "id": "5Gx6zRZ72cgG"
      }
    },
    {
      "cell_type": "code",
      "source": [
        "\"\"\"Function to make the quantum circuit for order finding.\"\"\"\n",
        "def make_order_finding_circuit(x: int, n: int) -> cirq.Circuit:\n",
        "    \"\"\"Returns quantum circuit which computes the order of x modulo n.\n",
        "\n",
        "    The circuit uses Quantum Phase Estimation to compute an eigenvalue of\n",
        "    the following unitary:\n",
        "\n",
        "        U|y⟩ = |y * x mod n⟩      0 <= y < n\n",
        "        U|y⟩ = |y⟩                n <= y\n",
        "\n",
        "    Args:\n",
        "        x: positive integer whose order modulo n is to be found\n",
        "        n: modulus relative to which the order of x is to be found\n",
        "\n",
        "    Returns:\n",
        "        Quantum circuit for finding the order of x modulo n\n",
        "    \"\"\"\n",
        "    L = n.bit_length()\n",
        "    target = cirq.LineQubit.range(L)\n",
        "    exponent = cirq.LineQubit.range(L, 3 * L + 3)\n",
        "\n",
        "    # Create a ModularExp gate sized for these registers.\n",
        "    mod_exp = ModularExp([2] * L, [2] * (2 * L + 3), x, n)\n",
        "\n",
        "    return cirq.Circuit(\n",
        "        cirq.X(target[L - 1]),\n",
        "        cirq.H.on_each(*exponent),\n",
        "        mod_exp.on(*target, *exponent),\n",
        "        cirq.qft(*exponent, inverse=True),\n",
        "        cirq.measure(*exponent, key='exponent'),\n",
        "    )\n",
        "\n",
        "def quantum_order_finder(x: int, n: int) -> Optional[int]:\n",
        "    \"\"\"Computes smallest positive r such that x**r mod n == 1.\n",
        "\n",
        "    Args:\n",
        "        x: integer whose order is to be computed, must be greater than one\n",
        "           and belong to the multiplicative group of integers modulo n (which\n",
        "           consists of positive integers relatively prime to n),\n",
        "        n: modulus of the multiplicative group.\n",
        "    \"\"\"\n",
        "    # Check that the integer x is a valid element of the multiplicative group\n",
        "    # modulo n.\n",
        "    if x < 2 or n <= x or math.gcd(x, n) > 1:\n",
        "        raise ValueError(f'Invalid x={x} for modulus n={n}.')\n",
        "\n",
        "    # Create the order finding circuit.\n",
        "    circuit = make_order_finding_circuit(x, n)\n",
        "\n",
        "    # Sample from the order finding circuit.\n",
        "    measurement = cirq.sample(circuit)\n",
        "\n",
        "    # Return the processed measurement result.\n",
        "    return process_measurement(measurement, x, n)"
      ],
      "metadata": {
        "id": "a6ZLR6iN2b1C"
      },
      "execution_count": 19,
      "outputs": []
    },
    {
      "cell_type": "markdown",
      "source": [
        "Next step is to define a function to uses the quantum factorization function with some checks before and after it."
      ],
      "metadata": {
        "id": "6e35SoE25Qx9"
      }
    },
    {
      "cell_type": "code",
      "source": [
        "\"\"\"Functions for factoring from start to finish.\"\"\"\n",
        "def find_factor_of_prime_power(n: int) -> Optional[int]:\n",
        "    \"\"\"Returns non-trivial factor of n if n is a prime power, else None.\"\"\"\n",
        "    for k in range(2, math.floor(math.log2(n)) + 1):\n",
        "        c = math.pow(n, 1 / k)\n",
        "        c1 = math.floor(c)\n",
        "        if c1**k == n:\n",
        "            return c1\n",
        "        c2 = math.ceil(c)\n",
        "        if c2**k == n:\n",
        "            return c2\n",
        "    return None\n",
        "\n",
        "\n",
        "def find_factor(\n",
        "    n: int,\n",
        "    order_finder: Callable[[int, int], Optional[int]] = quantum_order_finder,\n",
        "    max_attempts: int = 30\n",
        ") -> Optional[int]:\n",
        "    \"\"\"Returns a non-trivial factor of composite integer n.\n",
        "\n",
        "    Args:\n",
        "        n: Integer to factor.\n",
        "        order_finder: Function for finding the order of elements of the\n",
        "            multiplicative group of integers modulo n.\n",
        "        max_attempts: number of random x's to try, also an upper limit\n",
        "            on the number of order_finder invocations.\n",
        "\n",
        "    Returns:\n",
        "        Non-trivial factor of n or None if no such factor was found.\n",
        "        Factor k of n is trivial if it is 1 or n.\n",
        "    \"\"\"\n",
        "    # If the number is prime, there are no non-trivial factors.\n",
        "    if sympy.isprime(n):\n",
        "        print(\"n is prime!\")\n",
        "        return None\n",
        "\n",
        "    # If the number is even, two is a non-trivial factor.\n",
        "    if n % 2 == 0:\n",
        "        return 2\n",
        "\n",
        "    # If n is a prime power, we can find a non-trivial factor efficiently.\n",
        "    c = find_factor_of_prime_power(n)\n",
        "    if c is not None:\n",
        "        return c\n",
        "\n",
        "    for _ in range(max_attempts):\n",
        "        # Choose a random number between 2 and n - 1.\n",
        "        x = random.randint(2, n - 1)\n",
        "\n",
        "        # Most likely x and n will be relatively prime.\n",
        "        c = math.gcd(x, n)\n",
        "\n",
        "        # If x and n are not relatively prime, we got lucky and found\n",
        "        # a non-trivial factor.\n",
        "        if 1 < c < n:\n",
        "            return c\n",
        "\n",
        "        # Compute the order r of x modulo n using the order finder.\n",
        "        r = order_finder(x, n)\n",
        "\n",
        "        # If the order finder failed, try again.\n",
        "        if r is None:\n",
        "            continue\n",
        "\n",
        "        # If the order r is even, try again.\n",
        "        if r % 2 != 0:\n",
        "            continue\n",
        "\n",
        "        # Compute the non-trivial factor.\n",
        "        y = x**(r // 2) % n\n",
        "        assert 1 < y < n\n",
        "        c = math.gcd(y - 1, n)\n",
        "        if 1 < c < n:\n",
        "            return c\n",
        "\n",
        "    print(f\"Failed to find a non-trivial factor in {max_attempts} attempts.\")\n",
        "    return None"
      ],
      "metadata": {
        "id": "kzkcBT2Z5NTb"
      },
      "execution_count": 20,
      "outputs": []
    },
    {
      "cell_type": "markdown",
      "source": [
        "Finally we can use functions defined to factor the number \"n\" obtaining its factors."
      ],
      "metadata": {
        "id": "tcxSwCHP6gMh"
      }
    },
    {
      "cell_type": "code",
      "source": [
        "# Attempt to find a factor\n",
        "p = find_factor(n, order_finder=classical_order_finder)\n",
        "q = n // p\n",
        "\n",
        "\n",
        "print(\"Factoring n = pq =\", n)\n",
        "print(\"p =\", p)\n",
        "print(\"q =\", q)"
      ],
      "metadata": {
        "colab": {
          "base_uri": "https://localhost:8080/"
        },
        "id": "DwUPRmhg5-cM",
        "outputId": "3a87a156-58db-4e84-b7a0-4211217f6e60"
      },
      "execution_count": 21,
      "outputs": [
        {
          "output_type": "stream",
          "name": "stdout",
          "text": [
            "Factoring n = pq = 184573\n",
            "p = 379\n",
            "q = 487\n"
          ]
        }
      ]
    },
    {
      "cell_type": "markdown",
      "source": [
        "We conclude this section with a practical example of Shor´s algorithm factoring number \"n\" of RSA algorithm.\n",
        "\n",
        "With factos of \"n\" is possible to recreate the private and public keys used to cipher messages in a specific context. However, at the moment, there is no quantum computer with enough capacity to factor a real \"n\" in real world operations of communication or storage.\n",
        "\n",
        "## **Post quantum cryptography**\n",
        "\n",
        "What happen when quantum computers achieve enough capacity to break traditional algorithms? \n",
        "\n",
        "There under development post quantum cryptography algorithms resistant to quantum computers attacks. Recently NIST published the first list of these algorithms, there are some links about the subject in references section.\n",
        "\n",
        "In future we should see these algorithms being used to cipher our data in communications and data storage. However, we should remember to change cipher of data at rest, like backups, from traditional algorithms to post quantum algorithms to avoid this kind of attack.\n",
        "\n",
        "But this a topic for another text…\n"
      ],
      "metadata": {
        "id": "Tm4jQbTN6zaC"
      }
    },
    {
      "cell_type": "markdown",
      "source": [
        "# **References**\n",
        "RSA algorithm: https://en.wikipedia.org/wiki/RSA_(cryptosystem)\n",
        "\n",
        "RSA algorithm implementation: https://www.codespeedy.com/rsa-algorithm-an-asymmetric-key-encryption-in-python/#:~:text=RSA%20Algorithm%20working%20example&text=Compute%20totient%20%3D%20\n",
        "\n",
        "Shor´s algorithm: https://en.wikipedia.org/wiki/Shor%27s_algorithm\n",
        "\n",
        "Shor´s algorithm explanied: https://quantumai.google/cirq/experiments/shor\n",
        "\n",
        "Google Cirq documentation: https://quantumai.google/cirq\n",
        "\n",
        "Google Colab homepage: https://colab.research.google.com/?utm_source=scs-index\n",
        "\n",
        "Post quantum cryptographic links:\n",
        "\n",
        "https://www.nist.gov/news-events/news/2022/07/nist-announces-first-four-quantum-resistant-cryptographic-algorithms\n",
        "\n",
        "https://www.inovacaotecnologica.com.br/noticias/noticia.php?artigo=selecionados-algoritmos-criptografia-resistentes-computadores-quanticos&id=010150220708#.YtYdgKTQ9zB\n",
        "\n",
        "https://thequantuminsider.com/2022/07/11/crypto-quantique-announces-first-post-quantum-computing-iot-security-platform-compliant-with-new-nist-standards/"
      ],
      "metadata": {
        "id": "_VB1xJKQ7ukp"
      }
    },
    {
      "cell_type": "code",
      "source": [],
      "metadata": {
        "id": "MUxDGoTK72P3"
      },
      "execution_count": null,
      "outputs": []
    }
  ]
}