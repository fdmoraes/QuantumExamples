{
 "cells": [
  {
   "cell_type": "markdown",
   "id": "e429eb5b",
   "metadata": {},
   "source": [
    "# O algoritmo RSA"
   ]
  },
  {
   "cell_type": "markdown",
   "id": "1d5aa30c",
   "metadata": {},
   "source": [
    "O algoritmo RSA envolve quatro passos: geração de chaves, distribuição dessas chaves, cifragem e decifragem.\n",
    "O principio por trás do RSA são três número inteiros positivos muito grandes, chamados de e, d e n."
   ]
  },
  {
   "cell_type": "markdown",
   "id": "882889af",
   "metadata": {},
   "source": [
    "## Geração das chaves\n",
    "\n",
    "Selecione dois número primos distintos, simulares em magnitude mas pouco diferente na quantidade de digitos para tornar a fatoração dificil.\n",
    "\n",
    "No nosso exemplo utilizaremos números pequenos para reduzir a complexidade do tutorial, uma vez que estamos interessados na lógica."
   ]
  },
  {
   "cell_type": "code",
   "execution_count": 5,
   "id": "11ece294",
   "metadata": {},
   "outputs": [],
   "source": [
    "p = 11\n",
    "q = 29"
   ]
  },
  {
   "cell_type": "markdown",
   "id": "2f2736b3",
   "metadata": {},
   "source": [
    "Calcule o número n que é a multiplicação dos dois números primos. O número n será utilizado como módulo para a definição das chaves públicas e privadas"
   ]
  },
  {
   "cell_type": "code",
   "execution_count": 6,
   "id": "e59e2524",
   "metadata": {},
   "outputs": [],
   "source": [
    "n = p * q"
   ]
  },
  {
   "cell_type": "markdown",
   "id": "ae62dd76",
   "metadata": {},
   "source": [
    "Calcule a função Phi. Como p e q são primos a função Phi de p é p-1 e a função Phi de qé q-1"
   ]
  },
  {
   "cell_type": "code",
   "execution_count": 11,
   "id": "2ddd5e0b",
   "metadata": {},
   "outputs": [
    {
     "name": "stdout",
     "output_type": "stream",
     "text": [
      "280\n"
     ]
    }
   ],
   "source": [
    "phi_of_n = (p - 1) * (q - 1)\n",
    "\n",
    "print(phi_of_n)"
   ]
  },
  {
   "cell_type": "markdown",
   "id": "37152014",
   "metadata": {},
   "source": [
    "Vamos importar o função para retornar o maior dividor comum entre dois números. Essa função é utilizada na lógica de geração da chave privada"
   ]
  },
  {
   "cell_type": "code",
   "execution_count": 20,
   "id": "546def16",
   "metadata": {},
   "outputs": [],
   "source": [
    "from math import gcd\n",
    "import random"
   ]
  },
  {
   "cell_type": "markdown",
   "id": "e87e19b1",
   "metadata": {},
   "source": [
    "Abaixo temos a definição de uma função que gera a chave privada"
   ]
  },
  {
   "cell_type": "code",
   "execution_count": 24,
   "id": "80b101a3",
   "metadata": {},
   "outputs": [],
   "source": [
    "def get_encryption_key(n, phi_of_n):\n",
    "    lst = [i for i in range(1, n+1)]\n",
    "    e_list = []\n",
    "    for i in lst:\n",
    "        if (1 < i) and (i < phi_of_n):\n",
    "            gcd_value = gcd(i, n)\n",
    "            gcd_phi = gcd(i, phi_of_n)\n",
    "            if (gcd_value == 1) and (gcd_phi == 1):\n",
    "                e_list.append(i)\n",
    "    if len(e_list) == 1:\n",
    "        return e_list[0]\n",
    "    else:\n",
    "        return e_list[random.randint(1, len(e_list)-1)]  "
   ]
  },
  {
   "cell_type": "markdown",
   "id": "5c28ebd1",
   "metadata": {},
   "source": [
    "E essa outra função gera a chave pública"
   ]
  },
  {
   "cell_type": "code",
   "execution_count": 25,
   "id": "402c5abc",
   "metadata": {},
   "outputs": [],
   "source": [
    "def get_decryption_key(e, phi_of_n):\n",
    "    d_list = []\n",
    "    for i in range(e * 25):\n",
    "        if (e * i) % phi_of_n == 1:\n",
    "            d_list.append(i)\n",
    "    return d_list[random.randint(1, len(d_list) - 1)]"
   ]
  },
  {
   "cell_type": "code",
   "execution_count": 28,
   "id": "f26a1c6a",
   "metadata": {},
   "outputs": [
    {
     "name": "stdout",
     "output_type": "stream",
     "text": [
      "[1787, 319]\n",
      "[123, 319]\n"
     ]
    }
   ],
   "source": [
    "e = get_encryption_key(n, phi_of_n)\n",
    "d = get_decryption_key(e, phi_of_n)\n",
    "\n",
    "# Utilizada para evitar colisão\n",
    "while d == e:\n",
    "    d = get_decryption_key(e, phi_of_n)\n",
    "\n",
    "chave_publica = [e, n]\n",
    "chave_privada = [d, n]\n",
    "\n",
    "print(chave_privada)\n",
    "print(chave_publica)"
   ]
  },
  {
   "cell_type": "markdown",
   "id": "30b307da",
   "metadata": {},
   "source": [
    "## Distribuição das chaves"
   ]
  },
  {
   "cell_type": "markdown",
   "id": "ec0ad918",
   "metadata": {},
   "source": [
    "Idealmente a chave privada não deve ser transmitida. Ela deve ser gera no próprio disposito onde será utilizada, como equipamentos do tipo HSM (Hardware Security Module) que não permitam sua extração. Caso seja necessário a transmissão da chave privada, deve ser utilizado um meio confiável.\n",
    "Já a chave pública deve ser distribuida para que seja possível a critografia da mensagem pela outra parte. Nesse tutorial não vamos precisar distribuir a chave pública pois rodaremos todo o processo nesse notebook"
   ]
  },
  {
   "cell_type": "markdown",
   "id": "e4adef06",
   "metadata": {},
   "source": [
    "## Cifragem da mensagem\n",
    "\n",
    "Primeiro vamos definir uma função que retorna uma lista com os valores ASCII de cada caracter da mensagem:"
   ]
  },
  {
   "cell_type": "code",
   "execution_count": 29,
   "id": "4ab4bcd4",
   "metadata": {},
   "outputs": [],
   "source": [
    "import string\n",
    "def text_to_digits(PT):\n",
    "    pool = string.ascii_letters + string.punctuation + \" \"\n",
    "    M = []\n",
    "    for i in PT:\n",
    "        M.append(pool.index(i))\n",
    "    return M"
   ]
  },
  {
   "cell_type": "markdown",
   "id": "206d41b3",
   "metadata": {},
   "source": [
    "E agora definimos a função que faz a cifragem da mensagem usando a chave pública:"
   ]
  },
  {
   "cell_type": "code",
   "execution_count": 31,
   "id": "f6f82d7e",
   "metadata": {},
   "outputs": [],
   "source": [
    "def encrypt(M, chave_publica):\n",
    "    return [(i ** chave_publica[0]) % chave_publica[1] for i in M]"
   ]
  },
  {
   "cell_type": "markdown",
   "id": "dbebc8dd",
   "metadata": {},
   "source": [
    "O passo final é cifrarmos a mensagem com as funções definidas acima"
   ]
  },
  {
   "cell_type": "code",
   "execution_count": 32,
   "id": "95b56ad2",
   "metadata": {},
   "outputs": [
    {
     "name": "stdout",
     "output_type": "stream",
     "text": [
      "[121, 295, 242, 242, 269, 303, 101, 209, 269, 128, 242, 247, 281]\n"
     ]
    }
   ],
   "source": [
    "mensagem = \"Hello, world!\"\n",
    "mensagem_em_ascii = text_to_digits(mensagem)\n",
    "\n",
    "mensagem_cifrada = encrypt(mensagem_em_ascii, chave_publica)\n",
    "print(mensagem_cifrada)"
   ]
  },
  {
   "cell_type": "markdown",
   "id": "93b7b207",
   "metadata": {},
   "source": [
    "## Decifragem da mensagem"
   ]
  },
  {
   "cell_type": "markdown",
   "id": "0470c020",
   "metadata": {},
   "source": [
    "De forma semelhante a cifragem da mensagem, vamos definir uma função auxilidar que retorna o caracter da mensagem a partir do seu valor ASCII"
   ]
  },
  {
   "cell_type": "code",
   "execution_count": 33,
   "id": "d02969b4",
   "metadata": {},
   "outputs": [],
   "source": [
    "def digits_to_text(DT):\n",
    "    pool = string.ascii_letters + string.punctuation + \" \"\n",
    "    msg = ''\n",
    "    for i in DT:\n",
    "        msg += pool[i]\n",
    "    return msg"
   ]
  },
  {
   "cell_type": "markdown",
   "id": "1b557e59",
   "metadata": {},
   "source": [
    "E agora definimos a função que faz a decifragem da mensagem:"
   ]
  },
  {
   "cell_type": "code",
   "execution_count": 35,
   "id": "4a768105",
   "metadata": {},
   "outputs": [],
   "source": [
    "def decrypt(CT, private_key):\n",
    "    return [((i ** chave_privada[0]) % chave_privada[1]) for i in CT]"
   ]
  },
  {
   "cell_type": "markdown",
   "id": "2e356432",
   "metadata": {},
   "source": [
    "O passo final é utilizarmos esass funções para decifrar a mensagem:"
   ]
  },
  {
   "cell_type": "code",
   "execution_count": 37,
   "id": "13330040",
   "metadata": {},
   "outputs": [
    {
     "name": "stdout",
     "output_type": "stream",
     "text": [
      "Hello, world!\n"
     ]
    }
   ],
   "source": [
    "mensagem_decifrage_em_ascii = decrypt(mensagem_cifrada, chave_privada) \n",
    "mensagem_aberta = original_PT = digits_to_text(mensagem_decifrage_em_ascii)\n",
    "\n",
    "print(mensagem_aberta)"
   ]
  },
  {
   "cell_type": "markdown",
   "id": "840833eb",
   "metadata": {},
   "source": [
    "Dessa forma concluímos o exemplo do algorimo RSA, definindo as chaves pública e privada, cifrando e decifrando uma mensagem com essas chaves."
   ]
  },
  {
   "cell_type": "markdown",
   "id": "363435cf",
   "metadata": {},
   "source": [
    "# O algoritmo do Shor"
   ]
  },
  {
   "cell_type": "markdown",
   "id": "46567c5b",
   "metadata": {},
   "source": [
    "O algoritmo de Shor é um algoritmo capaz encontrar os fatores de números primos que compõem um número inteiro.\n",
    "\n",
    "Esse é justamente o passo contrário ao RSA, que a partir de dois números primos compõem o número n que é sua base. Como vimos acima precisamos ter acesso a esse número n tanto para cifrar como para decifrar uma mensagem.\n",
    "Portanto para decifrarmos uma mensagem cifrada no RSA precisamos de acesso ao número n, um computador quântico com capacidade de execução do Shor para esse número n e a mensagem cifrada.\n",
    "\n",
    "Acima temos definido o número n da nossa cifragem. A partir dele vamos obter pelo algorithmo de Shor seus fatores, que são os números base para recontrução das chave privada e pública.\n",
    "\n",
    "O algoritmo de Shor é explicado em diversos materiais sobre computação quântica. Na sessão referências desse tutorial você entrará alguns links com a explicação.\n",
    "\n",
    "No restante desse tutorial vamos utilizar o Qiskit e o simulador de computador quântico da IBM para demonstrar o uso do algoritmo de Shor para obter os números p e q que definimos no início desse texto.\n",
    "\n",
    "Primeiro vamos importar as funções necessárias:"
   ]
  },
  {
   "cell_type": "code",
   "execution_count": 2,
   "id": "fef62e1a",
   "metadata": {},
   "outputs": [],
   "source": [
    "import math\n",
    "import numpy as np\n",
    "from qiskit import Aer\n",
    "from qiskit.utils import QuantumInstance\n",
    "from qiskit.algorithms import Shor\n",
    "from qiskit import IBMQ"
   ]
  },
  {
   "cell_type": "markdown",
   "id": "bfe07310",
   "metadata": {},
   "source": [
    "O próximo passo é carregarmos a o token da nossa conta no IBM Experience para conseguirmos rodar o simulador e não depender dos recursos da nossa máquina local.\n",
    "\n",
    "Também vamos obter o objeto que representa o backend desse simulador:"
   ]
  },
  {
   "cell_type": "code",
   "execution_count": 3,
   "id": "de3fd61a",
   "metadata": {},
   "outputs": [],
   "source": [
    "IBMQ.load_account()\n",
    "\n",
    "provider = IBMQ.get_provider(group='open')\n",
    "backend = provider.get_backend('ibmq_qasm_simulator')"
   ]
  },
  {
   "cell_type": "markdown",
   "id": "b4aed57c",
   "metadata": {},
   "source": [
    "Para finalizar criaremos o circuito do algoritmo de Shor para o valore de n que precisamos através de funções do Qiskit e executaremos esse circuito paara obter os valores de n e p definidos no início desse tutorial:"
   ]
  },
  {
   "cell_type": "code",
   "execution_count": null,
   "id": "0488ecc0",
   "metadata": {},
   "outputs": [],
   "source": [
    "quantum_instance = QuantumInstance(backend, shots=30)\n",
    "shor = Shor(quantum_instance=quantum_instance)\n",
    "result = shor.factor(n)\n",
    "print(f\"The list of factors of {n} as computed by the Shor's algorithm is {result.factors[0]}.\")"
   ]
  },
  {
   "cell_type": "markdown",
   "id": "53a5dee5",
   "metadata": {},
   "source": [
    "Dessa forma mostramos um exemplo prático de como o algoritmo de Shor tem a capacidade de recuperar os fatores iniciais do algoritmo RSA e a partir desses fatores recriar as chaves privada e pública e decifrar uma mensagem."
   ]
  },
  {
   "cell_type": "markdown",
   "id": "ad58bcc5",
   "metadata": {},
   "source": [
    "## Referências\n",
    "\n",
    "Algoritmo de Shor: https://en.wikipedia.org/wiki/Shor%27s_algorithm\n",
    "\n",
    "Algoritmo RSA: https://en.wikipedia.org/wiki/RSA_(cryptosystem)\n",
    "\n",
    "Explicação do algoritmo de Shor: https://qiskit.org/textbook/ch-algorithms/shor.html\n",
    "\n",
    "Documentação do Qiskit: https://qiskit.org/documentation/tutorials/algorithms/08_factorizers.html\n",
    "\n",
    "Página inicial da IBM Quantum Experience: https://quantum-computing.ibm.com/\n",
    "\n",
    "Configuração da conta da IBM Quantum Experience: https://quantum-computing.ibm.com/lab/docs/iql/manage/account/ibmq\n",
    "\n"
   ]
  },
  {
   "cell_type": "markdown",
   "id": "ccaa23e5",
   "metadata": {},
   "source": []
  }
 ],
 "metadata": {
  "kernelspec": {
   "display_name": "Python 3 (ipykernel)",
   "language": "python",
   "name": "python3"
  },
  "language_info": {
   "codemirror_mode": {
    "name": "ipython",
    "version": 3
   },
   "file_extension": ".py",
   "mimetype": "text/x-python",
   "name": "python",
   "nbconvert_exporter": "python",
   "pygments_lexer": "ipython3",
   "version": "3.9.12"
  }
 },
 "nbformat": 4,
 "nbformat_minor": 5
}
