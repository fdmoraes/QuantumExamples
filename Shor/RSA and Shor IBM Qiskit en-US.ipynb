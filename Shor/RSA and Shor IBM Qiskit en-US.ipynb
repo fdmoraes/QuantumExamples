{
 "cells": [
  {
   "cell_type": "markdown",
   "id": "e429eb5b",
   "metadata": {},
   "source": [
    "# RSA Algorithm"
   ]
  },
  {
   "cell_type": "markdown",
   "id": "1d5aa30c",
   "metadata": {},
   "source": [
    "There are four steps when using RSA algorithm: keys generation, public key distribution, ciphering and deciphering.\n",
    "\n",
    "The fundamental of RSA are three big positive an integer numbers, usually called \"e\", \"d\" and \"n\". The strength of RSA algorithm is the difficulty  of factoring the number \"n\" to obtain \"e\" and \"d\"."
   ]
  },
  {
   "cell_type": "markdown",
   "id": "882889af",
   "metadata": {},
   "source": [
    "## Keys generation\n",
    "\n",
    "To create the key pair, choose two prime numbers similars in magnitude but with little difference in quantity of digits to make factoring a hard task.\n",
    "\n",
    "In example bellow we are using small numbers to reduce tutorial complexity, because we are interested in understanding the logic."
   ]
  },
  {
   "cell_type": "code",
   "execution_count": 2,
   "id": "11ece294",
   "metadata": {},
   "outputs": [],
   "source": [
    "p = 5\n",
    "q = 7"
   ]
  },
  {
   "cell_type": "markdown",
   "id": "2f2736b3",
   "metadata": {},
   "source": [
    "Next multiply these numbers to calculate \"n\". This number will be used as modulo to define the public and private keys."
   ]
  },
  {
   "cell_type": "code",
   "execution_count": 3,
   "id": "e59e2524",
   "metadata": {},
   "outputs": [
    {
     "name": "stdout",
     "output_type": "stream",
     "text": [
      "35\n"
     ]
    }
   ],
   "source": [
    "n = p * q\n",
    "\n",
    "print(n)"
   ]
  },
  {
   "cell_type": "markdown",
   "id": "ae62dd76",
   "metadata": {},
   "source": [
    "Now we need to calculte Phi. As \"p\" and \"q\" are prime numbers the Phi is defined as multiplication of p-1 and q-1"
   ]
  },
  {
   "cell_type": "code",
   "execution_count": 4,
   "id": "2ddd5e0b",
   "metadata": {},
   "outputs": [
    {
     "name": "stdout",
     "output_type": "stream",
     "text": [
      "24\n"
     ]
    }
   ],
   "source": [
    "phi_of_n = (p - 1) * (q - 1)\n",
    "\n",
    "print(phi_of_n)"
   ]
  },
  {
   "cell_type": "markdown",
   "id": "37152014",
   "metadata": {},
   "source": [
    "Now let´s import some python functions...\n",
    "\n",
    "First line imports the gcd function, which returns the greatest common divisor of two numbers. This function will be used to generate the private key.\n",
    "\n",
    "The random function is used to generate a random number"
   ]
  },
  {
   "cell_type": "code",
   "execution_count": 5,
   "id": "546def16",
   "metadata": {},
   "outputs": [],
   "source": [
    "from math import gcd\n",
    "import random"
   ]
  },
  {
   "cell_type": "markdown",
   "id": "e87e19b1",
   "metadata": {},
   "source": [
    "Bellow we define the function to create the encrypton key. This key will be used to generate the private key"
   ]
  },
  {
   "cell_type": "code",
   "execution_count": 6,
   "id": "80b101a3",
   "metadata": {},
   "outputs": [],
   "source": [
    "def get_encryption_key(n, phi_of_n):\n",
    "    lst = [i for i in range(1, n+1)]\n",
    "    e_list = []\n",
    "    for i in lst:\n",
    "        if (1 < i) and (i < phi_of_n):\n",
    "            gcd_value = gcd(i, n)\n",
    "            gcd_phi = gcd(i, phi_of_n)\n",
    "            if (gcd_value == 1) and (gcd_phi == 1):\n",
    "                e_list.append(i)\n",
    "    if len(e_list) == 1:\n",
    "        return e_list[0]\n",
    "    else:\n",
    "        return e_list[random.randint(1, len(e_list)-1)]  "
   ]
  },
  {
   "cell_type": "markdown",
   "id": "5c28ebd1",
   "metadata": {},
   "source": [
    "This other function creates the decryption key, used to derive the public key"
   ]
  },
  {
   "cell_type": "code",
   "execution_count": 7,
   "id": "402c5abc",
   "metadata": {},
   "outputs": [],
   "source": [
    "def get_decryption_key(e, phi_of_n):\n",
    "    d_list = []\n",
    "    for i in range(e * 25):\n",
    "        if (e * i) % phi_of_n == 1:\n",
    "            d_list.append(i)\n",
    "    return d_list[random.randint(1, len(d_list) - 1)]"
   ]
  },
  {
   "cell_type": "markdown",
   "id": "7109702d",
   "metadata": {},
   "source": [
    "The code bellow uses these function to create the private and the public keys:"
   ]
  },
  {
   "cell_type": "code",
   "execution_count": 10,
   "id": "f26a1c6a",
   "metadata": {},
   "outputs": [
    {
     "name": "stdout",
     "output_type": "stream",
     "text": [
      "[19, 35]\n",
      "[235, 35]\n"
     ]
    }
   ],
   "source": [
    "e = get_encryption_key(n, phi_of_n)\n",
    "d = get_decryption_key(e, phi_of_n)\n",
    "\n",
    "# Avoid colision\n",
    "while d == e:\n",
    "    d = get_decryption_key(e, phi_of_n)\n",
    "\n",
    "public_key = [e, n]\n",
    "private_key = [d, n]\n",
    "\n",
    "print(public_key)\n",
    "print(private_key)"
   ]
  },
  {
   "cell_type": "markdown",
   "id": "30b307da",
   "metadata": {},
   "source": [
    "## Public key distribution"
   ]
  },
  {
   "cell_type": "markdown",
   "id": "ec0ad918",
   "metadata": {},
   "source": [
    "Ideally the private key is created using HSM (Hardware Security Module) devices that don´t allow key extractionis and this key is never transmitted. When is necessary to transmit the private key, we need to use a security channel"
   ]
  },
  {
   "cell_type": "markdown",
   "id": "e4adef06",
   "metadata": {},
   "source": [
    "## Message ciphering\n",
    "\n",
    "First let´s define a function to return ASCII values from message characters:"
   ]
  },
  {
   "cell_type": "code",
   "execution_count": 9,
   "id": "4ab4bcd4",
   "metadata": {},
   "outputs": [],
   "source": [
    "import string\n",
    "def text_to_digits(PT):\n",
    "    pool = string.ascii_letters + string.punctuation + \" \"\n",
    "    M = []\n",
    "    for i in PT:\n",
    "        M.append(pool.index(i))\n",
    "    return M"
   ]
  },
  {
   "cell_type": "markdown",
   "id": "206d41b3",
   "metadata": {},
   "source": [
    "And define a function to cipher the message using our public key:"
   ]
  },
  {
   "cell_type": "code",
   "execution_count": 11,
   "id": "f6f82d7e",
   "metadata": {},
   "outputs": [],
   "source": [
    "def encrypt(M, public_key):\n",
    "    return [(i ** public_key[0]) % public_key[1] for i in M]"
   ]
  },
  {
   "cell_type": "markdown",
   "id": "dbebc8dd",
   "metadata": {},
   "source": [
    "Final step is to cipher the message using these functions"
   ]
  },
  {
   "cell_type": "code",
   "execution_count": 12,
   "id": "95b56ad2",
   "metadata": {},
   "outputs": [
    {
     "name": "stdout",
     "output_type": "stream",
     "text": [
      "[17, 24, 14, 19, 4, 32, 19]\n"
     ]
    }
   ],
   "source": [
    "message = \"My test\"\n",
    "ascii_message = text_to_digits(message)\n",
    "\n",
    "cipher_message = encrypt(ascii_message, public_key)\n",
    "print(cipher_message)"
   ]
  },
  {
   "cell_type": "markdown",
   "id": "93b7b207",
   "metadata": {},
   "source": [
    "## Message deciphering"
   ]
  },
  {
   "cell_type": "markdown",
   "id": "0470c020",
   "metadata": {},
   "source": [
    "Similar of message ciphering, let´s define a function to return character from an ASCII value"
   ]
  },
  {
   "cell_type": "code",
   "execution_count": 13,
   "id": "d02969b4",
   "metadata": {},
   "outputs": [],
   "source": [
    "def digits_to_text(DT):\n",
    "    pool = string.ascii_letters + string.punctuation + \" \"\n",
    "    msg = ''\n",
    "    for i in DT:\n",
    "        msg += pool[i]\n",
    "    return msg"
   ]
  },
  {
   "cell_type": "markdown",
   "id": "1b557e59",
   "metadata": {},
   "source": [
    "Now we define a function to decipher the message using private key:"
   ]
  },
  {
   "cell_type": "code",
   "execution_count": 14,
   "id": "4a768105",
   "metadata": {},
   "outputs": [],
   "source": [
    "def decrypt(CT, private_key):\n",
    "    return [((i ** private_key[0]) % private_key[1]) for i in CT]"
   ]
  },
  {
   "cell_type": "markdown",
   "id": "2e356432",
   "metadata": {},
   "source": [
    "Final step is to use these functions to decipher the message:"
   ]
  },
  {
   "cell_type": "code",
   "execution_count": 15,
   "id": "13330040",
   "metadata": {},
   "outputs": [
    {
     "name": "stdout",
     "output_type": "stream",
     "text": [
      "dyotest\n"
     ]
    }
   ],
   "source": [
    "ascii_decipher_message = decrypt(cipher_message, private_key) \n",
    "original_message = original_PT = digits_to_text(ascii_decipher_message)\n",
    "\n",
    "print(original_message)"
   ]
  },
  {
   "cell_type": "markdown",
   "id": "840833eb",
   "metadata": {},
   "source": [
    "We finished our example of RSA algorithm, generating key pair, ciphering and deciphering one message using these keys."
   ]
  },
  {
   "cell_type": "markdown",
   "id": "e69c3399",
   "metadata": {},
   "source": [
    "# Shor´s algorithm"
   ]
  },
  {
   "cell_type": "markdown",
   "id": "b25648da",
   "metadata": {},
   "source": [
    "Shor´s algorithm is a quantum computing algorithm capable of factoring an integer number, which is finding two numbers used in a multiplication to generate a third one.\n",
    "\n",
    "This is the reverse path of RSA algorithm, which uses two prime numbers to generate the number \"n\". This number \"n\" is the base of this algorithm.\n",
    "\n",
    "In the previous section we could understand that we need this number \"n\" to cipher and decipher messages. In other words, this number is known by all parts involved in message transmission.\n",
    "\n",
    "In theory, to break the RSA encryption we need the number \"n\", a quantum computer with enough capacity to execute Shor´s algorithm  and the ciphered message.\n",
    "\n",
    "In the beginning  of RSA section we defined the number \"n\". We will use Shor´s algorithm to calculate the factos of this number, which are the numbers needed to generate the public and private keys.\n",
    "\n",
    "Shor´s algorithm is explained in diverse materials about quantum computing. In references section of this notebook you can find links explaning this algorithm.\n",
    "\n",
    "Let´s use Qiskit and IBM quantum computer simulator to show how Shor´s algorithm to obtain numbers \"p\" and \"q\" that we defined in the beginning of RSA section to create the key pair.\n",
    "\n",
    "First let´s import necessary functions:"
   ]
  },
  {
   "cell_type": "code",
   "execution_count": 16,
   "id": "a19e30c3",
   "metadata": {},
   "outputs": [],
   "source": [
    "import math\n",
    "import numpy as np\n",
    "from qiskit import Aer\n",
    "from qiskit.utils import QuantumInstance\n",
    "from qiskit.algorithms import Shor\n",
    "from qiskit import IBMQ"
   ]
  },
  {
   "cell_type": "markdown",
   "id": "449dd8ec",
   "metadata": {},
   "source": [
    "Next step is to load our token from IBM Quantum Experience to execute our circuit in simulator. This token must by save in our computer previously.\n",
    "\n",
    "In the code bellow we also get a backend instance of this simulator:"
   ]
  },
  {
   "cell_type": "code",
   "execution_count": 15,
   "id": "9f104db6",
   "metadata": {},
   "outputs": [],
   "source": [
    "IBMQ.load_account()\n",
    "\n",
    "provider = IBMQ.get_provider(group='open')\n",
    "backend = provider.get_backend('ibmq_qasm_simulator')"
   ]
  },
  {
   "cell_type": "markdown",
   "id": "d8591274",
   "metadata": {},
   "source": [
    "To finish, let´s create the circuit which implements Shor´s algorithm to factor the number \"n' using Qiskit functions.\n",
    "\n",
    "Next we will execute the circuit obtaining \"p\" and \"q\" values, defined in the beginning of this notebook:"
   ]
  },
  {
   "cell_type": "code",
   "execution_count": 16,
   "id": "29591acc",
   "metadata": {},
   "outputs": [
    {
     "name": "stdout",
     "output_type": "stream",
     "text": [
      "Os fatores de \"n\" = 35 são [5, 7].\n"
     ]
    }
   ],
   "source": [
    "quantum_instance = QuantumInstance(backend, shots=30)\n",
    "shor = Shor(quantum_instance=quantum_instance)\n",
    "result = shor.factor(n)\n",
    "print(f\"Factors of \\\"n\\\"= {n} are {result.factors[0]}.\")"
   ]
  },
  {
   "cell_type": "markdown",
   "id": "a849f376",
   "metadata": {},
   "source": [
    "## Shor´s algorithm anatomy\n",
    "\n",
    "In this section we create a circuit which implements Shor´s algorithm using Qiskit to verify the number of qubits needed for a quantum computer execute this circuit. This information is important to know the minimum  capacity of a quantum computer necessary to execute the circuit.\n",
    "\n",
    "We also print the circuit to see the it three building blocks:\n",
    "\n",
    "\n",
    "1. A block of Hadarmard (H gates) operations to put qubits in superposition\n",
    "\n",
    "2. Factorization of number N\n",
    "\n",
    "3. Quantum Fourier Transform (QFT) used to increase probability of correct answer through interference\n",
    "\n",
    "In References section there are links with mathematical proof of each step and details about this algorithm\n",
    "\n",
    "As we can confirm, at the moment there is no quantum computer with enough qubits to run Shor´s algorithm to break a real world communication. "
   ]
  },
  {
   "cell_type": "code",
   "execution_count": 17,
   "id": "6f3eef23",
   "metadata": {},
   "outputs": [
    {
     "ename": "NameError",
     "evalue": "name 'shor' is not defined",
     "output_type": "error",
     "traceback": [
      "\u001b[1;31m---------------------------------------------------------------------------\u001b[0m",
      "\u001b[1;31mNameError\u001b[0m                                 Traceback (most recent call last)",
      "Input \u001b[1;32mIn [17]\u001b[0m, in \u001b[0;36m<cell line: 1>\u001b[1;34m()\u001b[0m\n\u001b[1;32m----> 1\u001b[0m shor_circuit \u001b[38;5;241m=\u001b[39m \u001b[43mshor\u001b[49m\u001b[38;5;241m.\u001b[39mconstruct_circuit(\u001b[38;5;241m15\u001b[39m)\n\u001b[0;32m      3\u001b[0m \u001b[38;5;28mprint\u001b[39m(\u001b[38;5;124mf\u001b[39m\u001b[38;5;124m\"\u001b[39m\u001b[38;5;124mQuantity de qubits: \u001b[39m\u001b[38;5;132;01m{\u001b[39;00mshor_circuit\u001b[38;5;241m.\u001b[39mnum_qubits\u001b[38;5;132;01m}\u001b[39;00m\u001b[38;5;124m\"\u001b[39m)\n\u001b[0;32m      4\u001b[0m shor_circuit\u001b[38;5;241m.\u001b[39mdraw(output\u001b[38;5;241m=\u001b[39m\u001b[38;5;124m'\u001b[39m\u001b[38;5;124mmpl\u001b[39m\u001b[38;5;124m'\u001b[39m)\n",
      "\u001b[1;31mNameError\u001b[0m: name 'shor' is not defined"
     ]
    }
   ],
   "source": [
    "shor_circuit = shor.construct_circuit(15)\n",
    "\n",
    "print(f\"Quantity de qubits: {shor_circuit.num_qubits}\")\n",
    "shor_circuit.draw(output='mpl')"
   ]
  },
  {
   "cell_type": "markdown",
   "id": "4034f946",
   "metadata": {},
   "source": [
    "We conclude this section with a practical example of Shor´s algorithm factoring number \"n\" of RSA algorithm.\n",
    "\n",
    "With factos of \"n\" is possible to recreate the private and public keys used to cipher messages in a specific context. \n",
    "\n",
    "However, at the moment, there is no quantum computer with enough capacity to factor a real \"n\" in real world operations of communication or storage."
   ]
  },
  {
   "cell_type": "markdown",
   "id": "e0dad745",
   "metadata": {},
   "source": [
    "## Post quantum cryptography\n",
    "\n",
    "What happen when quantum computers achieve enough capacity to break traditional algorithms? \n",
    "\n",
    "There under development post quantum cryptography algorithms resistant to quantum computers attacks. Recently NIST published the first list of these algorithms, there are some links about the subject in references section.\n",
    "\n",
    "In future we should see these algorithms being used to cipher our data in communications and data storage. However, we should remember to change cipher of data at rest, like backups, from traditional algorithms to post quantum algorithms to avoid this kind of attack.\n",
    "\n",
    "But this a topic for another text…\n"
   ]
  },
  {
   "cell_type": "markdown",
   "id": "3def1cd0",
   "metadata": {},
   "source": [
    "## References\n",
    "\n",
    "RSA Algorithm: https://en.wikipedia.org/wiki/RSA_(cryptosystem)\n",
    "\n",
    "RSA algorithm implementation: https://www.codespeedy.com/rsa-algorithm-an-asymmetric-key-encryption-in-python/#:~:text=RSA%20Algorithm%20working%20example&text=Compute%20totient%20%3D%20\n",
    "\n",
    "Shor´s algorithm: https://en.wikipedia.org/wiki/Shor%27s_algorithm\n",
    "\n",
    "Shor´r algorithm explanation: https://qiskit.org/textbook/ch-algorithms/shor.html\n",
    "\n",
    "Qiskit documentation: https://qiskit.org/documentation/tutorials/algorithms/08_factorizers.html\n",
    "\n",
    "IBM Quantum Experience home page: https://quantum-computing.ibm.com/\n",
    "\n",
    "IBM Quantum Experience account configuration: https://quantum-computing.ibm.com/lab/docs/iql/manage/account/ibmq\n",
    "\n",
    "Post quantum cryptographic links:\n",
    "- https://www.nist.gov/news-events/news/2022/07/nist-announces-first-four-quantum-resistant-cryptographic-algorithms\n",
    "\n",
    "- https://www.inovacaotecnologica.com.br/noticias/noticia.php?artigo=selecionados-algoritmos-criptografia-resistentes-computadores-quanticos&id=010150220708#.YtYdgKTQ9zB\n",
    "\n",
    "- https://thequantuminsider.com/2022/07/11/crypto-quantique-announces-first-post-quantum-computing-iot-security-platform-compliant-with-new-nist-standards/\n"
   ]
  },
  {
   "cell_type": "code",
   "execution_count": null,
   "id": "41a1c9fe",
   "metadata": {},
   "outputs": [],
   "source": []
  }
 ],
 "metadata": {
  "kernelspec": {
   "display_name": "Python 3 (ipykernel)",
   "language": "python",
   "name": "python3"
  },
  "language_info": {
   "codemirror_mode": {
    "name": "ipython",
    "version": 3
   },
   "file_extension": ".py",
   "mimetype": "text/x-python",
   "name": "python",
   "nbconvert_exporter": "python",
   "pygments_lexer": "ipython3",
   "version": "3.9.12"
  }
 },
 "nbformat": 4,
 "nbformat_minor": 5
}
