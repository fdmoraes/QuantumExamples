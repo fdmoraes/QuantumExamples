{
 "cells": [
  {
   "cell_type": "markdown",
   "id": "e429eb5b",
   "metadata": {},
   "source": [
    "# O algoritmo RSA"
   ]
  },
  {
   "cell_type": "markdown",
   "id": "1d5aa30c",
   "metadata": {},
   "source": [
    "O algoritmo RSA envolve quatro passos: geração de chaves, distribuição dessas chaves, cifragem e decifragem.\n",
    "\n",
    "O principio por trás do RSA são três números inteiros positivos muito grandes, chamados de \"e\", \"d\" e \"n\". A força da sua cifragem está na dificuldade da fatoração de \"n\" nos números \"e\" e \"d\""
   ]
  },
  {
   "cell_type": "markdown",
   "id": "882889af",
   "metadata": {},
   "source": [
    "## Geração das chaves\n",
    "\n",
    "Para gerar o par de chaves, selecione dois número primos distintos, simulares em magnitude mas pouco diferente na quantidade de digitos para tornar a fatoração dificil.\n",
    "\n",
    "No nosso exemplo utilizaremos números pequenos para reduzir a complexidade do tutorial, uma vez que estamos interessados na lógica."
   ]
  },
  {
   "cell_type": "code",
   "execution_count": 1,
   "id": "11ece294",
   "metadata": {},
   "outputs": [],
   "source": [
    "p = 5\n",
    "q = 7"
   ]
  },
  {
   "cell_type": "markdown",
   "id": "2f2736b3",
   "metadata": {},
   "source": [
    "Em seguida calcule o número \"n\" que é a multiplicação dos dois números primos. O número \"n\" será utilizado como módulo para a definição das chaves públicas e privadas"
   ]
  },
  {
   "cell_type": "code",
   "execution_count": 2,
   "id": "e59e2524",
   "metadata": {},
   "outputs": [
    {
     "name": "stdout",
     "output_type": "stream",
     "text": [
      "35\n"
     ]
    }
   ],
   "source": [
    "n = p * q\n",
    "\n",
    "print(n)"
   ]
  },
  {
   "cell_type": "markdown",
   "id": "ae62dd76",
   "metadata": {},
   "source": [
    "O próximo passo é calcular a função Phi. Como \"p\" e \"q\" são primos a função Phi é definida como a multiplicação de p-1 e q-1"
   ]
  },
  {
   "cell_type": "code",
   "execution_count": 3,
   "id": "2ddd5e0b",
   "metadata": {},
   "outputs": [
    {
     "name": "stdout",
     "output_type": "stream",
     "text": [
      "24\n"
     ]
    }
   ],
   "source": [
    "phi_of_n = (p - 1) * (q - 1)\n",
    "\n",
    "print(phi_of_n)"
   ]
  },
  {
   "cell_type": "markdown",
   "id": "37152014",
   "metadata": {},
   "source": [
    "Agora vamos importar algumas funções.\n",
    "\n",
    "A primeira linha importa a função gcd que retorna o maior dividor comum entre dois números. Essa função é utilizada na lógica de geração da chave privada\n",
    "\n",
    "A funçao random é utilizada para gerar um número aleatório"
   ]
  },
  {
   "cell_type": "code",
   "execution_count": 4,
   "id": "546def16",
   "metadata": {},
   "outputs": [],
   "source": [
    "from math import gcd\n",
    "import random"
   ]
  },
  {
   "cell_type": "markdown",
   "id": "e87e19b1",
   "metadata": {},
   "source": [
    "Abaixo temos a definição da função que gera a chave de cifragem, utilizada para gerar a chave privada"
   ]
  },
  {
   "cell_type": "code",
   "execution_count": 5,
   "id": "80b101a3",
   "metadata": {},
   "outputs": [],
   "source": [
    "def get_encryption_key(n, phi_of_n):\n",
    "    lst = [i for i in range(1, n+1)]\n",
    "    e_list = []\n",
    "    for i in lst:\n",
    "        if (1 < i) and (i < phi_of_n):\n",
    "            gcd_value = gcd(i, n)\n",
    "            gcd_phi = gcd(i, phi_of_n)\n",
    "            if (gcd_value == 1) and (gcd_phi == 1):\n",
    "                e_list.append(i)\n",
    "    if len(e_list) == 1:\n",
    "        return e_list[0]\n",
    "    else:\n",
    "        return e_list[random.randint(1, len(e_list)-1)]  "
   ]
  },
  {
   "cell_type": "markdown",
   "id": "5c28ebd1",
   "metadata": {},
   "source": [
    "E essa outra função gera a chave de decifragem, utilizada para gerar chave pública"
   ]
  },
  {
   "cell_type": "code",
   "execution_count": 6,
   "id": "402c5abc",
   "metadata": {},
   "outputs": [],
   "source": [
    "def get_decryption_key(e, phi_of_n):\n",
    "    d_list = []\n",
    "    for i in range(e * 25):\n",
    "        if (e * i) % phi_of_n == 1:\n",
    "            d_list.append(i)\n",
    "    return d_list[random.randint(1, len(d_list) - 1)]"
   ]
  },
  {
   "cell_type": "markdown",
   "id": "7109702d",
   "metadata": {},
   "source": [
    "O código abaixo utiliza as duas funções definidas acima para gerar as chaves privada e pública:"
   ]
  },
  {
   "cell_type": "code",
   "execution_count": 7,
   "id": "f26a1c6a",
   "metadata": {},
   "outputs": [
    {
     "name": "stdout",
     "output_type": "stream",
     "text": [
      "[335, 35]\n",
      "[23, 35]\n"
     ]
    }
   ],
   "source": [
    "e = get_encryption_key(n, phi_of_n)\n",
    "d = get_decryption_key(e, phi_of_n)\n",
    "\n",
    "# Evitar colisão\n",
    "while d == e:\n",
    "    d = get_decryption_key(e, phi_of_n)\n",
    "\n",
    "chave_publica = [e, n]\n",
    "chave_privada = [d, n]\n",
    "\n",
    "print(chave_privada)\n",
    "print(chave_publica)"
   ]
  },
  {
   "cell_type": "markdown",
   "id": "30b307da",
   "metadata": {},
   "source": [
    "## Distribuição das chaves"
   ]
  },
  {
   "cell_type": "markdown",
   "id": "ec0ad918",
   "metadata": {},
   "source": [
    "Idealmente a chave privada não deve ser transmitida, mas gera no próprio disposito onde será utilizada, como equipamentos do tipo HSM (Hardware Security Module) que não permitam sua extração. Caso seja necessário a transmissão da chave privada, deve ser utilizado um meio confiável.\n",
    "\n",
    "Já a chave pública precisa ser distribuida para que seja possível a critografia da mensagem pela outra parte. Nesse tutorial não vamos precisar distribuir a chave pública pois rodaremos todo o processo nesse notebook"
   ]
  },
  {
   "cell_type": "markdown",
   "id": "e4adef06",
   "metadata": {},
   "source": [
    "## Cifragem da mensagem\n",
    "\n",
    "Primeiro vamos definir uma função que retorna os valores ASCII dos caracteres da mensagem:"
   ]
  },
  {
   "cell_type": "code",
   "execution_count": 8,
   "id": "4ab4bcd4",
   "metadata": {},
   "outputs": [],
   "source": [
    "import string\n",
    "def text_to_digits(PT):\n",
    "    pool = string.ascii_letters + string.punctuation + \" \"\n",
    "    M = []\n",
    "    for i in PT:\n",
    "        M.append(pool.index(i))\n",
    "    return M"
   ]
  },
  {
   "cell_type": "markdown",
   "id": "206d41b3",
   "metadata": {},
   "source": [
    "E agora definimos a função que faz a cifragem da mensagem usando a chave pública:"
   ]
  },
  {
   "cell_type": "code",
   "execution_count": 9,
   "id": "f6f82d7e",
   "metadata": {},
   "outputs": [],
   "source": [
    "def encrypt(M, chave_publica):\n",
    "    return [(i ** chave_publica[0]) % chave_publica[1] for i in M]"
   ]
  },
  {
   "cell_type": "markdown",
   "id": "dbebc8dd",
   "metadata": {},
   "source": [
    "O passo final é cifrarmos a mensagem com as funções definidas acima"
   ]
  },
  {
   "cell_type": "code",
   "execution_count": 10,
   "id": "95b56ad2",
   "metadata": {},
   "outputs": [
    {
     "name": "stdout",
     "output_type": "stream",
     "text": [
      "[12, 9, 20, 14, 24, 9, 2, 24, 9]\n"
     ]
    }
   ],
   "source": [
    "mensagem = \"Meu teste\"\n",
    "mensagem_em_ascii = text_to_digits(mensagem)\n",
    "\n",
    "mensagem_cifrada = encrypt(mensagem_em_ascii, chave_publica)\n",
    "print(mensagem_cifrada)"
   ]
  },
  {
   "cell_type": "markdown",
   "id": "93b7b207",
   "metadata": {},
   "source": [
    "## Decifragem da mensagem"
   ]
  },
  {
   "cell_type": "markdown",
   "id": "0470c020",
   "metadata": {},
   "source": [
    "De forma semelhante a cifragem da mensagem, vamos definir uma função auxilidar que retorna os caracteres da mensagem a partir do seus valores ASCII"
   ]
  },
  {
   "cell_type": "code",
   "execution_count": 11,
   "id": "d02969b4",
   "metadata": {},
   "outputs": [],
   "source": [
    "def digits_to_text(DT):\n",
    "    pool = string.ascii_letters + string.punctuation + \" \"\n",
    "    msg = ''\n",
    "    for i in DT:\n",
    "        msg += pool[i]\n",
    "    return msg"
   ]
  },
  {
   "cell_type": "markdown",
   "id": "1b557e59",
   "metadata": {},
   "source": [
    "E agora definimos a função que faz a decifragem da mensagem:"
   ]
  },
  {
   "cell_type": "code",
   "execution_count": 12,
   "id": "4a768105",
   "metadata": {},
   "outputs": [],
   "source": [
    "def decrypt(CT, private_key):\n",
    "    return [((i ** chave_privada[0]) % chave_privada[1]) for i in CT]"
   ]
  },
  {
   "cell_type": "markdown",
   "id": "2e356432",
   "metadata": {},
   "source": [
    "O passo final é utilizarmos esass funções para decifrar a mensagem:"
   ]
  },
  {
   "cell_type": "code",
   "execution_count": 13,
   "id": "13330040",
   "metadata": {},
   "outputs": [
    {
     "name": "stdout",
     "output_type": "stream",
     "text": [
      "deuoteste\n"
     ]
    }
   ],
   "source": [
    "mensagem_decifrage_em_ascii = decrypt(mensagem_cifrada, chave_privada) \n",
    "mensagem_aberta = original_PT = digits_to_text(mensagem_decifrage_em_ascii)\n",
    "\n",
    "print(mensagem_aberta)"
   ]
  },
  {
   "cell_type": "markdown",
   "id": "840833eb",
   "metadata": {},
   "source": [
    "Dessa forma concluímos o exemplo do algorimo RSA, definindo as chaves pública e privada, cifrando e decifrando uma mensagem com essas chaves."
   ]
  },
  {
   "cell_type": "markdown",
   "id": "e69c3399",
   "metadata": {},
   "source": [
    "# O algoritmo de Shor"
   ]
  },
  {
   "cell_type": "markdown",
   "id": "b25648da",
   "metadata": {},
   "source": [
    "O algoritmo de Shor é um algoritmo capaz fatorar um número, ou em outras palavras encontrar os dois números utilizados para gerar outro através da multiplicação deles.\n",
    "\n",
    "Esse é justamente o passo contrário ao RSA, que a partir de dois números primos compõem o número \"n\" que é sua base. Como vimos na sessão anterior precisamos ter acesso a esse número \"n\" tanto para cifrar como para decifrar uma mensagem. Ou seja, esse número é conhecido por todas as partes.\n",
    "\n",
    "Portanto para decifrarmos uma mensagem cifrada no RSA precisamos de acesso ao número \"n\", um computador quântico com capacidade de execução do Shor para esse número \"n\" e a mensagem cifrada.\n",
    "\n",
    "Na sessão sobre o algoritno RSA definidos o número \"n\" da nossa cifragem. A partir dele vamos obter pelo algorithmo de Shor seus fatores, que são os números base para recontrução das chave privada e pública.\n",
    "\n",
    "O algoritmo de Shor é explicado em diversos materiais sobre computação quântica. Na sessão referências desse notebook você entrará alguns links com a explicação.\n",
    "\n",
    "Vamos utilizar o Qiskit e o simulador de computador quântico da IBM para demonstrar o uso do algoritmo de Shor e obter os números \"p\" e \"q\" que definimos no início da explicação do algoritmo RSA.\n",
    "\n",
    "Primeiro vamos importar as funções necessárias:"
   ]
  },
  {
   "cell_type": "code",
   "execution_count": 14,
   "id": "a19e30c3",
   "metadata": {},
   "outputs": [],
   "source": [
    "import math\n",
    "import numpy as np\n",
    "from qiskit import Aer\n",
    "from qiskit.utils import QuantumInstance\n",
    "from qiskit.algorithms import Shor\n",
    "from qiskit import IBMQ"
   ]
  },
  {
   "cell_type": "markdown",
   "id": "449dd8ec",
   "metadata": {},
   "source": [
    "O próximo passo é carregarmos o token da nossa conta no IBM Quantum Experience, que deve ter sido salvo no computador anteriomente, para conseguirmos rodar o simulador e não depender dos recursos da nossa máquina local.\n",
    "\n",
    "Nesse código também obtemos o objeto que representa o backend desse simulador:"
   ]
  },
  {
   "cell_type": "code",
   "execution_count": 15,
   "id": "9f104db6",
   "metadata": {},
   "outputs": [],
   "source": [
    "IBMQ.load_account()\n",
    "\n",
    "provider = IBMQ.get_provider(group='open')\n",
    "backend = provider.get_backend('ibmq_qasm_simulator')"
   ]
  },
  {
   "cell_type": "markdown",
   "id": "d8591274",
   "metadata": {},
   "source": [
    "Para finalizar criaremos o circuito do algoritmo de Shor para o valor de \"n\" que desejamos fatorar utilizando as funções do Qiskit.\n",
    "\n",
    "Em seguida executaremos esse circuito obtendo os valores de \"p\" e \"q\" definidos no início desse notebook:"
   ]
  },
  {
   "cell_type": "code",
   "execution_count": 16,
   "id": "29591acc",
   "metadata": {},
   "outputs": [
    {
     "name": "stdout",
     "output_type": "stream",
     "text": [
      "Os fatores de \"n\" = 35 são [5, 7].\n"
     ]
    }
   ],
   "source": [
    "quantum_instance = QuantumInstance(backend, shots=30)\n",
    "shor = Shor(quantum_instance=quantum_instance)\n",
    "result = shor.factor(n)\n",
    "print(f\"Os fatores de \\\"n\\\" = {n} são {result.factors[0]}.\")"
   ]
  },
  {
   "cell_type": "markdown",
   "id": "a849f376",
   "metadata": {},
   "source": [
    "## A anotomia do algoritmo de Shor\n",
    "\n",
    "Agora vamos construir um circuito que implementa o algoritmo de Shor utilizando Qiskit para mostrarmos a quantidade de qubits e o circuito em si. Essas informações são importantes para sabermos a capacidade do computador quântico necessário para executá-lo.\n",
    "\n",
    "No desenho do circuito podemos ver os três grandes blocos que compõem o circuito:\n",
    "\n",
    "1. Os operadores de Hadarmard (H) que colocam os qubits em superposição\n",
    "\n",
    "2. O segundo bloco calcula os fatores do módulo do valor de N\n",
    "\n",
    "3. O terceiro bloco é uma transformada de fourier, nesse circuito é responsável pela interferência que aumenta a probabilidade do retorno dos fatores do número N \n",
    "\n",
    "A explicação matemática e demais detalhes do algoritmo podem ser visto nas referências.\n",
    "\n",
    "Porém podemos constatar que não temos atualmente um computador quântico com a quantidade de qbits necessário para fatorar o número \"n\" das chaves RSA utilizada para proteger nossos dados."
   ]
  },
  {
   "cell_type": "code",
   "execution_count": 29,
   "id": "6f3eef23",
   "metadata": {},
   "outputs": [
    {
     "name": "stdout",
     "output_type": "stream",
     "text": [
      "Número de qubits: 18\n"
     ]
    },
    {
     "data": {
      "image/png": "[encoded data removed]",
      "text/plain": [
       "<Figure size 430.43x1107.68 with 1 Axes>"
      ]
     },
     "execution_count": 29,
     "metadata": {},
     "output_type": "execute_result"
    }
   ],
   "source": [
    "shor_circuit = shor.construct_circuit(15)\n",
    "\n",
    "print(f\"Número de qubits: {shor_circuit.num_qubits}\")\n",
    "shor_circuit.draw(output='mpl')"
   ]
  },
  {
   "cell_type": "markdown",
   "id": "4034f946",
   "metadata": {},
   "source": [
    "Concluímos essa sessão com um exemplo prático da capacidade do algoritmo de Shor fatorar o número \"n\" do algoritmo RSA. \n",
    "\n",
    "A partir desses fatores podemos recriar as chaves privada e pública e decifrar qualquer mensagem cifrada com a chave privada.\n",
    "\n",
    "Porém no momento não temos um computador quântico com capacidade suficiente para fatorar o número \"n\" que é utilizado para proteger nossas comunições e muitos de nosos dados em repouso."
   ]
  },
  {
   "cell_type": "markdown",
   "id": "e0dad745",
   "metadata": {},
   "source": [
    "## Criptografia pós-quântica\n",
    "\n",
    "Porém o que ocorrerá quando tivermos um computador quântico poderoso o suficiente para quebrar o RSA e outros algoritmos de ciptografia utilizados atualmente?\n",
    "\n",
    "Para evitar esse problema estão em desenvolvimento os algoritmos de cripgrafia pós-quânticos. Recentemente o NIST publicou a lista dos primeiros algoritmos projetados para resistir aos computadores quânticos. Listamos alguns links sobre o assunto na sessão de referências. \n",
    "\n",
    "Mas esse é um assunto para outro notebook."
   ]
  },
  {
   "cell_type": "markdown",
   "id": "3def1cd0",
   "metadata": {},
   "source": [
    "## Referências\n",
    "\n",
    "Algoritmo RSA: https://en.wikipedia.org/wiki/RSA_(cryptosystem)\n",
    "\n",
    "Implementação do algoritmo RSA: https://www.codespeedy.com/rsa-algorithm-an-asymmetric-key-encryption-in-python/#:~:text=RSA%20Algorithm%20working%20example&text=Compute%20totient%20%3D%20\n",
    "\n",
    "Algoritmo de Shor: https://en.wikipedia.org/wiki/Shor%27s_algorithm\n",
    "\n",
    "Explicação do algoritmo de Shor: https://qiskit.org/textbook/ch-algorithms/shor.html\n",
    "\n",
    "Documentação do Qiskit: https://qiskit.org/documentation/tutorials/algorithms/08_factorizers.html\n",
    "\n",
    "Página inicial da IBM Quantum Experience: https://quantum-computing.ibm.com/\n",
    "\n",
    "Configuração da conta da IBM Quantum Experience: https://quantum-computing.ibm.com/lab/docs/iql/manage/account/ibmq\n",
    "\n",
    "Links sobre criptografia pós-quântica:\n",
    "- https://www.nist.gov/news-events/news/2022/07/nist-announces-first-four-quantum-resistant-cryptographic-algorithms\n",
    "\n",
    "- https://www.inovacaotecnologica.com.br/noticias/noticia.php?artigo=selecionados-algoritmos-criptografia-resistentes-computadores-quanticos&id=010150220708#.YtYdgKTQ9zB\n",
    "\n",
    "- https://thequantuminsider.com/2022/07/11/crypto-quantique-announces-first-post-quantum-computing-iot-security-platform-compliant-with-new-nist-standards/\n"
   ]
  }
 ],
 "metadata": {
  "kernelspec": {
   "display_name": "Python 3 (ipykernel)",
   "language": "python",
   "name": "python3"
  },
  "language_info": {
   "codemirror_mode": {
    "name": "ipython",
    "version": 3
   },
   "file_extension": ".py",
   "mimetype": "text/x-python",
   "name": "python",
   "nbconvert_exporter": "python",
   "pygments_lexer": "ipython3",
   "version": "3.9.12"
  }
 },
 "nbformat": 4,
 "nbformat_minor": 5
}
