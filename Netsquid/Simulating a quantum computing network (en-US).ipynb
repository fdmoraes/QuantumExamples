{
 "cells": [
  {
   "cell_type": "markdown",
   "id": "1fe0958c",
   "metadata": {},
   "source": [
    "### Simulating a quantum computing network\n",
    "\n",
    "In this article we are going to implement the Teletransport algorithm in [Netsquid](https://netsquid.org/), showing its capabilities. The explanation of this algorithm can be found on the Internet, on sites like [Qiskit](https://qiskit.org/textbook/ch-algorithms/teleportation.html) tutorial or [Microsoft Community Hub](https://techcommunity.microsoft.com/t5/educator-developer-blog/quantum-teleportation-in-q/ba-p/380602). \n",
    "\n",
    "Firstly, we need to register on this [link](https://forum.netsquid.org/ucp.php?mode=register) to get access to the installation package and documentation, registration is free for non-commercial use. After registration and module installation, create a new project or notebook and import the following modules:"
   ]
  },
  {
   "cell_type": "code",
   "execution_count": 1,
   "id": "597e30d1",
   "metadata": {},
   "outputs": [],
   "source": [
    "import netsquid as ns\n",
    "from netsquid.nodes.connections import Connection\n",
    "from netsquid.components.qprogram import QuantumProgram\n",
    "from netsquid.protocols import NodeProtocol\n",
    "from netsquid.nodes import Node\n",
    "from netsquid.components.models.qerrormodels import DephaseNoiseModel\n",
    "from netsquid.components.models.qerrormodels import DepolarNoiseModel\n",
    "from netsquid.components.models.delaymodels import FibreDelayModel\n",
    "from netsquid.components.models.delaymodels import FixedDelayModel\n",
    "from netsquid.protocols.protocol import Signals\n",
    "import netsquid.qubits.ketstates as ks\n",
    "from netsquid.util.datacollector import DataCollector\n",
    "from netsquid.components.qprocessor import PhysicalInstruction\n",
    "import pydynaa\n",
    "from netsquid.components import ClassicalChannel, QuantumChannel\n",
    "from netsquid.components.qprocessor import QuantumProcessor\n",
    "from netsquid.nodes.network import Network\n",
    "from netsquid.qubits.state_sampler import StateSampler\n",
    "from netsquid.components.qsource import QSource, SourceStatus\n",
    "import netsquid.components.instructions as instr\n",
    "import netsquid.qubits.qubitapi as qapi\n",
    "import pandas"
   ]
  },
  {
   "cell_type": "markdown",
   "id": "43d31bb0",
   "metadata": {},
   "source": [
    "### Creating the infrastructure\n",
    "\n",
    "After importing the required modules let’s define the simulation infrastructure, composed of quantum computers and channels.\n",
    "\n",
    "It is possible to define for each computer its processor and memory capacity. For quantum processors we also need to define which instructions will be available. \n",
    "\n",
    "For channels, we need to define which computers each channel will connect to and its connection type: classical or quantum.\n",
    "\n",
    "The above function defines the features of a computer"
   ]
  },
  {
   "cell_type": "code",
   "execution_count": 2,
   "id": "388d9594",
   "metadata": {},
   "outputs": [],
   "source": [
    "def create_simulated_computer(depolar_rate, dephase_rate):\n",
    "\n",
    "    measure_noise_model = DephaseNoiseModel(dephase_rate=dephase_rate, time_independent=True)\n",
    "    memory_noise_model = DepolarNoiseModel(depolar_rate=depolar_rate)\n",
    "    \n",
    "    physical_instructions = [\n",
    "        PhysicalInstruction(instr.INSTR_INIT, duration=3, parallel=True),\n",
    "        PhysicalInstruction(instr.INSTR_H, duration=1, parallel=True, topology=[0, 1]),\n",
    "        PhysicalInstruction(instr.INSTR_X, duration=1, parallel=True, topology=[0]),\n",
    "        PhysicalInstruction(instr.INSTR_Z, duration=1, parallel=True, topology=[0]),\n",
    "        PhysicalInstruction(instr.INSTR_S, duration=1, parallel=True, topology=[0]),\n",
    "        PhysicalInstruction(instr.INSTR_CNOT, duration=4, parallel=True, topology=[(0, 1)]),\n",
    "        PhysicalInstruction(instr.INSTR_MEASURE, duration=7, parallel=False, topology=[0],\n",
    "                            quantum_noise_model=measure_noise_model, apply_q_noise_after=False),\n",
    "        PhysicalInstruction(instr.INSTR_MEASURE, duration=7, parallel=False, topology=[1])\n",
    "    ]\n",
    "    \n",
    "    processor = QuantumProcessor(\"quantum_processor\", \n",
    "                                 num_positions=2,\n",
    "                                 memory_noise_models=[memory_noise_model] * 2,\n",
    "                                 phys_instructions=physical_instructions)\n",
    "    return processor"
   ]
  },
  {
   "cell_type": "markdown",
   "id": "57f88761",
   "metadata": {},
   "source": [
    "Moving from processor definition to channels, we have to define one classical connection and two quantum connections.\n",
    "\n",
    "The classical connection features are defined in the class above having inherence with the Connection type:"
   ]
  },
  {
   "cell_type": "code",
   "execution_count": 3,
   "id": "d10746bd",
   "metadata": {},
   "outputs": [],
   "source": [
    "class ClassicalConnection(Connection):\n",
    "\n",
    "    def __init__(self, length, name=\"ClassicalConnection\"):\n",
    "        \n",
    "        super().__init__(name=name)\n",
    "        self.add_subcomponent(ClassicalChannel(\"Channel_A2B\", length=length,\n",
    "                                               models={\"delay_model\": FibreDelayModel()}),\n",
    "                              forward_input=[(\"A\", \"send\")],\n",
    "                              forward_output=[(\"B\", \"recv\")])"
   ]
  },
  {
   "cell_type": "markdown",
   "id": "3d905ed3",
   "metadata": {},
   "source": [
    "The quantum connection features are defined in the following class, also having inherence from the Connection type:"
   ]
  },
  {
   "cell_type": "code",
   "execution_count": 4,
   "id": "8b3ee65f",
   "metadata": {},
   "outputs": [],
   "source": [
    "class QuantumConnection(Connection):\n",
    "\n",
    "    def __init__(self, length, source_frequency, name=\"EntanglingConnection\"):\n",
    "        \n",
    "        super().__init__(name=name)\n",
    "        qsource = QSource(f\"qsource_{name}\", \n",
    "                          StateSampler([ks.b00], [1.0]), \n",
    "                          num_ports=2,\n",
    "                          timing_model=FixedDelayModel(delay=1e9 / source_frequency),\n",
    "                          status=SourceStatus.INTERNAL)\n",
    "        \n",
    "        self.add_subcomponent(qsource, name=\"qsource\")\n",
    "\n",
    "        qchannel_c2a = QuantumChannel(\"qchannel_C2A\", length=length / 2, models={\"delay_model\": FibreDelayModel()})\n",
    "        qchannel_c2b = QuantumChannel(\"qchannel_C2B\", length=length / 2, models={\"delay_model\": FibreDelayModel()})\n",
    "        \n",
    "        # Add channels and forward quantum channel output to external port output:\n",
    "        self.add_subcomponent(qchannel_c2a, forward_output=[(\"A\", \"recv\")])\n",
    "        self.add_subcomponent(qchannel_c2b, forward_output=[(\"B\", \"recv\")])\n",
    "        \n",
    "        # Connect qsource output to quantum channel input:\n",
    "        qsource.ports[\"qout0\"].connect(qchannel_c2a.ports[\"send\"])\n",
    "        qsource.ports[\"qout1\"].connect(qchannel_c2b.ports[\"send\"])"
   ]
  },
  {
   "cell_type": "markdown",
   "id": "c08f81d1",
   "metadata": {},
   "source": [
    "At this point we have finished the definition of infrastructure using functions and classes.\n",
    "\n",
    "Let’s use these components to create the network in the next function:"
   ]
  },
  {
   "cell_type": "code",
   "execution_count": 5,
   "id": "1a8fc323",
   "metadata": {},
   "outputs": [],
   "source": [
    "def network_setup(node_distance=4e-3, depolar_rate=1e7, dephase_rate=0.2):\n",
    "\n",
    "    # Setup nodes Alice and Bob with quantum processor:\n",
    "    alice = Node(\"Alice\", qmemory=create_simulated_computer(depolar_rate, dephase_rate))\n",
    "    bob = Node(\"Bob\", qmemory=create_simulated_computer(depolar_rate, dephase_rate))\n",
    "    \n",
    "    # Create a network\n",
    "    network = Network(\"Teleportation_network\")\n",
    "    network.add_nodes([alice, bob])\n",
    "    \n",
    "    # Setup classical connection between nodes:\n",
    "    c_conn = ClassicalConnection(length=node_distance)\n",
    "    network.add_connection(alice, \n",
    "                           bob, \n",
    "                           connection=c_conn, \n",
    "                           label=\"classical\",\n",
    "                           port_name_node1=\"cout_bob\", \n",
    "                           port_name_node2=\"cin_alice\")\n",
    "    \n",
    "    # Setup entangling connection between nodes:\n",
    "    source_frequency = 4e4 / node_distance\n",
    "    \n",
    "    q_conn = QuantumConnection(length=node_distance, source_frequency=source_frequency)\n",
    "    \n",
    "    port_ac, port_bc = network.add_connection(alice, \n",
    "                                              bob, \n",
    "                                              connection=q_conn, \n",
    "                                              label=\"quantum\",\n",
    "                                              port_name_node1=\"qin_charlie\", \n",
    "                                              port_name_node2=\"qin_charlie\")\n",
    "    \n",
    "    alice.ports[port_ac].forward_input(alice.qmemory.ports['qin1'])\n",
    "    bob.ports[port_bc].forward_input(bob.qmemory.ports['qin0'])\n",
    "    \n",
    "    return network"
   ]
  },
  {
   "cell_type": "markdown",
   "id": "1db69867",
   "metadata": {},
   "source": [
    "### Software Definition\n",
    "\n",
    "In Netsquid quantum programs, also known as quantum circuits, are defined in classes that have  inherence from the QuantumProgram type. Quantum operations are added to this class to define its behavior.\n",
    "\n",
    "The following program encodes a value to Alice’s original qubit, which will be transmitted to Bob using the Teletransport Algorithm. "
   ]
  },
  {
   "cell_type": "code",
   "execution_count": 6,
   "id": "28cf7a5c",
   "metadata": {},
   "outputs": [],
   "source": [
    "class InitAliceStateProgram(QuantumProgram):\n",
    "\n",
    "    default_num_qubits = 1\n",
    "\n",
    "    def program(self):\n",
    "        q1, = self.get_qubit_indices(1)\n",
    "        self.apply(instr.INSTR_INIT, q1)\n",
    "        self.apply(instr.INSTR_H, q1)\n",
    "        self.apply(instr.INSTR_S, q1)\n",
    "        yield self.run()"
   ]
  },
  {
   "cell_type": "markdown",
   "id": "00f34781",
   "metadata": {},
   "source": [
    "A second program executed by Alice implements the first part of the Teletransport Algorithm, using a “CNOT” and a Hadamard gate followed by qubit measurement:"
   ]
  },
  {
   "cell_type": "code",
   "execution_count": 7,
   "id": "f195e49b",
   "metadata": {},
   "outputs": [],
   "source": [
    "class AliceMeasurementProgram(QuantumProgram):\n",
    "\n",
    "    default_num_qubits = 2\n",
    "\n",
    "    def program(self):\n",
    "        q1, q2 = self.get_qubit_indices(2)\n",
    "        self.apply(instr.INSTR_CNOT, [q1, q2])\n",
    "        self.apply(instr.INSTR_H, q1)\n",
    "        self.apply(instr.INSTR_MEASURE, q1, output_key=\"M1\")\n",
    "        self.apply(instr.INSTR_MEASURE, q2, output_key=\"M2\")\n",
    "        yield self.run()"
   ]
  },
  {
   "cell_type": "markdown",
   "id": "576b16ef",
   "metadata": {},
   "source": [
    "Quantum circuits are executed inside execution flows. Execution flows define the behavior of each node through quantum circuits, communications, and synchronism methods. \n",
    "\n",
    "It is derived from NodeProtocol and defines the run method, as the name suggests, to run code that controls iteration among programs, channels, and synchronism methods.\n",
    "\n",
    "Let’s create a class called AliceMeasurementProtocol to represent the execution flow of Alice. "
   ]
  },
  {
   "cell_type": "code",
   "execution_count": 8,
   "id": "b3b80c1a",
   "metadata": {},
   "outputs": [],
   "source": [
    "class AliceProtocol(NodeProtocol):\n",
    "\n",
    "    \n",
    "    def run(self):\n",
    "        qubit_initialised = False\n",
    "        entanglement_ready = False\n",
    "        \n",
    "        qubit_init_program = InitAliceStateProgram()\n",
    "        measure_program = AliceMeasurementProgram()\n",
    "        \n",
    "        self.node.qmemory.execute_program(qubit_init_program)\n",
    "        \n",
    "        while True:\n",
    "            expr = yield (self.await_program(self.node.qmemory) | \n",
    "                          self.await_port_input(self.node.ports[\"qin_charlie\"]))\n",
    "            if expr.first_term.value:\n",
    "                qubit_initialised = True\n",
    "            else:\n",
    "                entanglement_ready = True\n",
    "                \n",
    "            if qubit_initialised and entanglement_ready:\n",
    "                # Once both qubits arrived, do BSM program and send to Bob\n",
    "                yield self.node.qmemory.execute_program(measure_program)\n",
    "                m1, = measure_program.output[\"M1\"]\n",
    "                m2, = measure_program.output[\"M2\"]\n",
    "                \n",
    "                self.node.ports[\"cout_bob\"].tx_output((m1, m2))\n",
    "                self.send_signal(Signals.SUCCESS)\n",
    "                \n",
    "                qubit_initialised = False\n",
    "                entanglement_ready = False\n",
    "                \n",
    "                self.node.qmemory.execute_program(qubit_init_program)"
   ]
  },
  {
   "cell_type": "markdown",
   "id": "9f5823aa",
   "metadata": {},
   "source": [
    "Now let’s define Bob execution flow.\n",
    "\n",
    "In this flow Bob receives his entangled qubit and data from Alice to decide if he applies any of gates to reconstruct Alice’s qubit state."
   ]
  },
  {
   "cell_type": "code",
   "execution_count": 9,
   "id": "a6aad4bb",
   "metadata": {},
   "outputs": [],
   "source": [
    "class BobProtocol(NodeProtocol):\n",
    "\n",
    "    \n",
    "    def run(self):\n",
    "        \n",
    "        port_alice = self.node.ports[\"cin_alice\"]\n",
    "        port_charlie = self.node.ports[\"qin_charlie\"]\n",
    "        \n",
    "        entanglement_ready = False\n",
    "        meas_results = None\n",
    "        \n",
    "        while True:\n",
    "            # Wait for measurement results of Alice or qubit from Charlie to arrive\n",
    "            expr = yield (self.await_port_input(port_alice) | self.await_port_input(port_charlie))\n",
    "            if expr.first_term.value:  # If measurements from Alice arrived\n",
    "                meas_results, = port_alice.rx_input().items\n",
    "            else:\n",
    "                entanglement_ready = True\n",
    "                \n",
    "            if meas_results is not None and entanglement_ready:\n",
    "                # Do corrections (blocking)\n",
    "                if meas_results[0] == 1:\n",
    "                    self.node.qmemory.execute_instruction(instr.INSTR_Z)\n",
    "                    yield self.await_program(self.node.qmemory)\n",
    "                if meas_results[1] == 1:\n",
    "                    self.node.qmemory.execute_instruction(instr.INSTR_X)\n",
    "                    yield self.await_program(self.node.qmemory)\n",
    "                    \n",
    "                self.send_signal(Signals.SUCCESS, 0)\n",
    "                entanglement_ready = False\n",
    "                meas_results = None"
   ]
  },
  {
   "cell_type": "markdown",
   "id": "9014a3dd",
   "metadata": {},
   "source": [
    "### Executing the Simulation\n",
    "\n",
    "The above function collects fidelity data between Alice’s original qubit and the value obtained by Bob using the Teletransport algorithm.\n",
    "\n",
    "After this definition the code create instances of Alice and Bob protocols and a DataCollector object. The DataColector object is used to store simulation data."
   ]
  },
  {
   "cell_type": "code",
   "execution_count": 10,
   "id": "b641d450",
   "metadata": {},
   "outputs": [],
   "source": [
    "def simulation_setup(node_A, node_B):\n",
    "\n",
    "    \n",
    "    def collect_fidelity_data(evexpr):\n",
    "        \n",
    "        protocol = evexpr.triggered_events[-1].source\n",
    "        mem_pos = protocol.get_signal_result(Signals.SUCCESS)\n",
    "        qubit, = protocol.node.qmemory.pop(mem_pos)\n",
    "        fidelity = qapi.fidelity(qubit, ns.y0, squared=True)\n",
    "        qapi.discard(qubit)\n",
    "        return {\"fidelity\": fidelity}\n",
    "\n",
    "    protocol_alice = AliceProtocol(node_A)\n",
    "    protocol_bob = BobProtocol(node_B)\n",
    "    dc = DataCollector(collect_fidelity_data)\n",
    "    dc.collect_on(pydynaa.EventExpression(source=protocol_bob, event_type=Signals.SUCCESS.value))\n",
    "    return protocol_alice, protocol_bob, dc"
   ]
  },
  {
   "cell_type": "markdown",
   "id": "3bb8989d",
   "metadata": {},
   "source": [
    "Before running the simulation we need to put all pieces together: create the network with nodes and connections, protocols and data collectors.\n",
    "\n",
    "All these steps are done in the following function, using previously created functions:"
   ]
  },
  {
   "cell_type": "code",
   "execution_count": 11,
   "id": "23230eaf",
   "metadata": {},
   "outputs": [],
   "source": [
    "def run_experiment(num_runs, depolar_rates, distance=4e-3, dephase_rate=0.0):\n",
    "\n",
    "    fidelity_data = pandas.DataFrame()\n",
    "    \n",
    "    for i, depolar_rate in enumerate(depolar_rates):\n",
    "        \n",
    "        ns.sim_reset()\n",
    "        \n",
    "        network = network_setup(distance, depolar_rate, dephase_rate)\n",
    "        node_a = network.get_node(\"Alice\")\n",
    "        node_b = network.get_node(\"Bob\")\n",
    "        \n",
    "        protocol_alice, protocol_bob, dc = simulation_setup(node_a, node_b)\n",
    "        protocol_alice.start()\n",
    "        protocol_bob.start()\n",
    "        \n",
    "        q_conn = network.get_connection(node_a, node_b, label=\"quantum\")\n",
    "        cycle_runtime = (q_conn.subcomponents[\"qsource\"].subcomponents[\"internal_clock\"]\n",
    "                         .models[\"timing_model\"].delay)\n",
    "        \n",
    "        ns.sim_run(cycle_runtime * num_runs + 1)\n",
    "        df = dc.dataframe\n",
    "        df['depolar_rate'] = depolar_rate\n",
    "        fidelity_data = fidelity_data.append(df)\n",
    "    return fidelity_data"
   ]
  },
  {
   "cell_type": "markdown",
   "id": "889047ff",
   "metadata": {},
   "source": [
    "Finally, we can run the simulation and visualize data collected from it using the above function:"
   ]
  },
  {
   "cell_type": "code",
   "execution_count": 12,
   "id": "f7f3c608",
   "metadata": {},
   "outputs": [],
   "source": [
    "def start_and_plot():\n",
    "    \"\"\"Show a plot of fidelity verus depolarization rate.\n",
    "\n",
    "    \"\"\"\n",
    "    from matplotlib import pyplot as plt\n",
    "    depolar_rates = [1e6 * i for i in range(0, 200, 10)]\n",
    "    fidelities = run_experiment(num_runs=1000, distance=4e-3,\n",
    "                                depolar_rates=depolar_rates, dephase_rate=0.0)\n",
    "    plot_style = {'kind': 'scatter', 'grid': True,\n",
    "                  'title': \"Fidelity of the teleported quantum state\"}\n",
    "    data = fidelities.groupby(\"depolar_rate\")['fidelity'].agg(\n",
    "        fidelity='mean', sem='sem').reset_index()\n",
    "    data.plot(x='depolar_rate', y='fidelity', yerr='sem', **plot_style)\n",
    "    plt.show()"
   ]
  },
  {
   "cell_type": "code",
   "execution_count": 13,
   "id": "12cd7bdb",
   "metadata": {},
   "outputs": [
    {
     "name": "stderr",
     "output_type": "stream",
     "text": [
      "/home/flavio/anaconda3/envs/NetSquid/lib/python3.8/site-packages/netsquid/util/datacollector.py:242: FutureWarning: The frame.append method is deprecated and will be removed from pandas in a future version. Use pandas.concat instead.\n",
      "  self._dataframe = self._dataframe.append(self._data_buffer, ignore_index=True, sort=False)\n",
      "/tmp/ipykernel_14264/254427669.py:24: FutureWarning: The frame.append method is deprecated and will be removed from pandas in a future version. Use pandas.concat instead.\n",
      "  fidelity_data = fidelity_data.append(df)\n",
      "/home/flavio/anaconda3/envs/NetSquid/lib/python3.8/site-packages/netsquid/util/datacollector.py:242: FutureWarning: The frame.append method is deprecated and will be removed from pandas in a future version. Use pandas.concat instead.\n",
      "  self._dataframe = self._dataframe.append(self._data_buffer, ignore_index=True, sort=False)\n",
      "/tmp/ipykernel_14264/254427669.py:24: FutureWarning: The frame.append method is deprecated and will be removed from pandas in a future version. Use pandas.concat instead.\n",
      "  fidelity_data = fidelity_data.append(df)\n",
      "/home/flavio/anaconda3/envs/NetSquid/lib/python3.8/site-packages/netsquid/util/datacollector.py:242: FutureWarning: The frame.append method is deprecated and will be removed from pandas in a future version. Use pandas.concat instead.\n",
      "  self._dataframe = self._dataframe.append(self._data_buffer, ignore_index=True, sort=False)\n",
      "/tmp/ipykernel_14264/254427669.py:24: FutureWarning: The frame.append method is deprecated and will be removed from pandas in a future version. Use pandas.concat instead.\n",
      "  fidelity_data = fidelity_data.append(df)\n",
      "/home/flavio/anaconda3/envs/NetSquid/lib/python3.8/site-packages/netsquid/util/datacollector.py:242: FutureWarning: The frame.append method is deprecated and will be removed from pandas in a future version. Use pandas.concat instead.\n",
      "  self._dataframe = self._dataframe.append(self._data_buffer, ignore_index=True, sort=False)\n",
      "/tmp/ipykernel_14264/254427669.py:24: FutureWarning: The frame.append method is deprecated and will be removed from pandas in a future version. Use pandas.concat instead.\n",
      "  fidelity_data = fidelity_data.append(df)\n",
      "/home/flavio/anaconda3/envs/NetSquid/lib/python3.8/site-packages/netsquid/util/datacollector.py:242: FutureWarning: The frame.append method is deprecated and will be removed from pandas in a future version. Use pandas.concat instead.\n",
      "  self._dataframe = self._dataframe.append(self._data_buffer, ignore_index=True, sort=False)\n",
      "/tmp/ipykernel_14264/254427669.py:24: FutureWarning: The frame.append method is deprecated and will be removed from pandas in a future version. Use pandas.concat instead.\n",
      "  fidelity_data = fidelity_data.append(df)\n",
      "/home/flavio/anaconda3/envs/NetSquid/lib/python3.8/site-packages/netsquid/util/datacollector.py:242: FutureWarning: The frame.append method is deprecated and will be removed from pandas in a future version. Use pandas.concat instead.\n",
      "  self._dataframe = self._dataframe.append(self._data_buffer, ignore_index=True, sort=False)\n",
      "/tmp/ipykernel_14264/254427669.py:24: FutureWarning: The frame.append method is deprecated and will be removed from pandas in a future version. Use pandas.concat instead.\n",
      "  fidelity_data = fidelity_data.append(df)\n",
      "/home/flavio/anaconda3/envs/NetSquid/lib/python3.8/site-packages/netsquid/util/datacollector.py:242: FutureWarning: The frame.append method is deprecated and will be removed from pandas in a future version. Use pandas.concat instead.\n",
      "  self._dataframe = self._dataframe.append(self._data_buffer, ignore_index=True, sort=False)\n",
      "/tmp/ipykernel_14264/254427669.py:24: FutureWarning: The frame.append method is deprecated and will be removed from pandas in a future version. Use pandas.concat instead.\n",
      "  fidelity_data = fidelity_data.append(df)\n",
      "/home/flavio/anaconda3/envs/NetSquid/lib/python3.8/site-packages/netsquid/util/datacollector.py:242: FutureWarning: The frame.append method is deprecated and will be removed from pandas in a future version. Use pandas.concat instead.\n",
      "  self._dataframe = self._dataframe.append(self._data_buffer, ignore_index=True, sort=False)\n",
      "/tmp/ipykernel_14264/254427669.py:24: FutureWarning: The frame.append method is deprecated and will be removed from pandas in a future version. Use pandas.concat instead.\n",
      "  fidelity_data = fidelity_data.append(df)\n",
      "/home/flavio/anaconda3/envs/NetSquid/lib/python3.8/site-packages/netsquid/util/datacollector.py:242: FutureWarning: The frame.append method is deprecated and will be removed from pandas in a future version. Use pandas.concat instead.\n",
      "  self._dataframe = self._dataframe.append(self._data_buffer, ignore_index=True, sort=False)\n",
      "/tmp/ipykernel_14264/254427669.py:24: FutureWarning: The frame.append method is deprecated and will be removed from pandas in a future version. Use pandas.concat instead.\n",
      "  fidelity_data = fidelity_data.append(df)\n",
      "/home/flavio/anaconda3/envs/NetSquid/lib/python3.8/site-packages/netsquid/util/datacollector.py:242: FutureWarning: The frame.append method is deprecated and will be removed from pandas in a future version. Use pandas.concat instead.\n",
      "  self._dataframe = self._dataframe.append(self._data_buffer, ignore_index=True, sort=False)\n",
      "/tmp/ipykernel_14264/254427669.py:24: FutureWarning: The frame.append method is deprecated and will be removed from pandas in a future version. Use pandas.concat instead.\n",
      "  fidelity_data = fidelity_data.append(df)\n",
      "/home/flavio/anaconda3/envs/NetSquid/lib/python3.8/site-packages/netsquid/util/datacollector.py:242: FutureWarning: The frame.append method is deprecated and will be removed from pandas in a future version. Use pandas.concat instead.\n",
      "  self._dataframe = self._dataframe.append(self._data_buffer, ignore_index=True, sort=False)\n",
      "/tmp/ipykernel_14264/254427669.py:24: FutureWarning: The frame.append method is deprecated and will be removed from pandas in a future version. Use pandas.concat instead.\n",
      "  fidelity_data = fidelity_data.append(df)\n",
      "/home/flavio/anaconda3/envs/NetSquid/lib/python3.8/site-packages/netsquid/util/datacollector.py:242: FutureWarning: The frame.append method is deprecated and will be removed from pandas in a future version. Use pandas.concat instead.\n",
      "  self._dataframe = self._dataframe.append(self._data_buffer, ignore_index=True, sort=False)\n",
      "/tmp/ipykernel_14264/254427669.py:24: FutureWarning: The frame.append method is deprecated and will be removed from pandas in a future version. Use pandas.concat instead.\n",
      "  fidelity_data = fidelity_data.append(df)\n",
      "/home/flavio/anaconda3/envs/NetSquid/lib/python3.8/site-packages/netsquid/util/datacollector.py:242: FutureWarning: The frame.append method is deprecated and will be removed from pandas in a future version. Use pandas.concat instead.\n",
      "  self._dataframe = self._dataframe.append(self._data_buffer, ignore_index=True, sort=False)\n",
      "/tmp/ipykernel_14264/254427669.py:24: FutureWarning: The frame.append method is deprecated and will be removed from pandas in a future version. Use pandas.concat instead.\n",
      "  fidelity_data = fidelity_data.append(df)\n",
      "/home/flavio/anaconda3/envs/NetSquid/lib/python3.8/site-packages/netsquid/util/datacollector.py:242: FutureWarning: The frame.append method is deprecated and will be removed from pandas in a future version. Use pandas.concat instead.\n",
      "  self._dataframe = self._dataframe.append(self._data_buffer, ignore_index=True, sort=False)\n",
      "/tmp/ipykernel_14264/254427669.py:24: FutureWarning: The frame.append method is deprecated and will be removed from pandas in a future version. Use pandas.concat instead.\n",
      "  fidelity_data = fidelity_data.append(df)\n",
      "/home/flavio/anaconda3/envs/NetSquid/lib/python3.8/site-packages/netsquid/util/datacollector.py:242: FutureWarning: The frame.append method is deprecated and will be removed from pandas in a future version. Use pandas.concat instead.\n",
      "  self._dataframe = self._dataframe.append(self._data_buffer, ignore_index=True, sort=False)\n",
      "/tmp/ipykernel_14264/254427669.py:24: FutureWarning: The frame.append method is deprecated and will be removed from pandas in a future version. Use pandas.concat instead.\n",
      "  fidelity_data = fidelity_data.append(df)\n",
      "/home/flavio/anaconda3/envs/NetSquid/lib/python3.8/site-packages/netsquid/util/datacollector.py:242: FutureWarning: The frame.append method is deprecated and will be removed from pandas in a future version. Use pandas.concat instead.\n",
      "  self._dataframe = self._dataframe.append(self._data_buffer, ignore_index=True, sort=False)\n",
      "/tmp/ipykernel_14264/254427669.py:24: FutureWarning: The frame.append method is deprecated and will be removed from pandas in a future version. Use pandas.concat instead.\n",
      "  fidelity_data = fidelity_data.append(df)\n"
     ]
    },
    {
     "name": "stderr",
     "output_type": "stream",
     "text": [
      "/home/flavio/anaconda3/envs/NetSquid/lib/python3.8/site-packages/netsquid/util/datacollector.py:242: FutureWarning: The frame.append method is deprecated and will be removed from pandas in a future version. Use pandas.concat instead.\n",
      "  self._dataframe = self._dataframe.append(self._data_buffer, ignore_index=True, sort=False)\n",
      "/tmp/ipykernel_14264/254427669.py:24: FutureWarning: The frame.append method is deprecated and will be removed from pandas in a future version. Use pandas.concat instead.\n",
      "  fidelity_data = fidelity_data.append(df)\n",
      "/home/flavio/anaconda3/envs/NetSquid/lib/python3.8/site-packages/netsquid/util/datacollector.py:242: FutureWarning: The frame.append method is deprecated and will be removed from pandas in a future version. Use pandas.concat instead.\n",
      "  self._dataframe = self._dataframe.append(self._data_buffer, ignore_index=True, sort=False)\n",
      "/tmp/ipykernel_14264/254427669.py:24: FutureWarning: The frame.append method is deprecated and will be removed from pandas in a future version. Use pandas.concat instead.\n",
      "  fidelity_data = fidelity_data.append(df)\n",
      "/home/flavio/anaconda3/envs/NetSquid/lib/python3.8/site-packages/netsquid/util/datacollector.py:242: FutureWarning: The frame.append method is deprecated and will be removed from pandas in a future version. Use pandas.concat instead.\n",
      "  self._dataframe = self._dataframe.append(self._data_buffer, ignore_index=True, sort=False)\n",
      "/tmp/ipykernel_14264/254427669.py:24: FutureWarning: The frame.append method is deprecated and will be removed from pandas in a future version. Use pandas.concat instead.\n",
      "  fidelity_data = fidelity_data.append(df)\n",
      "/home/flavio/anaconda3/envs/NetSquid/lib/python3.8/site-packages/netsquid/util/datacollector.py:242: FutureWarning: The frame.append method is deprecated and will be removed from pandas in a future version. Use pandas.concat instead.\n",
      "  self._dataframe = self._dataframe.append(self._data_buffer, ignore_index=True, sort=False)\n",
      "/tmp/ipykernel_14264/254427669.py:24: FutureWarning: The frame.append method is deprecated and will be removed from pandas in a future version. Use pandas.concat instead.\n",
      "  fidelity_data = fidelity_data.append(df)\n"
     ]
    },
    {
     "data": {
      "image/png": "[encoded data removed]",
      "text/plain": [
       "<Figure size 640x480 with 1 Axes>"
      ]
     },
     "metadata": {},
     "output_type": "display_data"
    }
   ],
   "source": [
    "start_and_plot()"
   ]
  }
 ],
 "metadata": {
  "kernelspec": {
   "display_name": "Python 3 (ipykernel)",
   "language": "python",
   "name": "python3"
  },
  "language_info": {
   "codemirror_mode": {
    "name": "ipython",
    "version": 3
   },
   "file_extension": ".py",
   "mimetype": "text/x-python",
   "name": "python",
   "nbconvert_exporter": "python",
   "pygments_lexer": "ipython3",
   "version": "3.8.13"
  }
 },
 "nbformat": 4,
 "nbformat_minor": 5
}